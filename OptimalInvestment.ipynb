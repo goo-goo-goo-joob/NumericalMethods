{
  "nbformat": 4,
  "nbformat_minor": 0,
  "metadata": {
    "colab": {
      "name": "OptimalInvestment.ipynb",
      "provenance": [],
      "collapsed_sections": []
    },
    "kernelspec": {
      "name": "python3",
      "display_name": "Python 3"
    }
  },
  "cells": [
    {
      "cell_type": "markdown",
      "metadata": {
        "id": "bKVJGeMRe48a",
        "colab_type": "text"
      },
      "source": [
        "#Задача динамического программирования\n",
        "\n",
        "*Распределить оптимальным способом имеющиеся ресурсы* в размере 200 000 между пятью предприятиями, в каждое из которых нельзя вкладывать более 100 000."
      ]
    },
    {
      "cell_type": "code",
      "metadata": {
        "id": "6tLJPWKPe3Fs",
        "colab_type": "code",
        "colab": {}
      },
      "source": [
        "N = 5\n",
        "Firms = []\n",
        "Firms.append([0, 10, 20, 40, 100, 160, 180, 190, 200, 210, 215]) #Прибыль, приносимая предприятием 1 в зависимости от вложения\n",
        "Firms.append([0, 18, 25, 30, 31, 32, 33, 34, 35, 36, 37])\n",
        "Firms.append([0, 20, 40, 60, 80, 95, 101, 102, 103, 104, 105])\n",
        "Firms.append([0, 5, 10, 15, 25, 37, 69, 140, 225, 280, 300])\n",
        "Firms.append([0, 30, 68, 95, 140, 160, 170, 175, 176, 177, 178])\n",
        "Funds = [0, 10, 20, 30, 40, 50, 60, 70, 80, 90, 100] #Варианты вложения средств. Есть вариант ничего не вкладывать."
      ],
      "execution_count": 0,
      "outputs": []
    },
    {
      "cell_type": "markdown",
      "metadata": {
        "id": "ewUk7WQ4hWUm",
        "colab_type": "text"
      },
      "source": [
        "###Математическая модель\n",
        "$N = 5$ этапов. Каждый этап - это рассмотрение соответствующей компании.\n",
        "\n",
        "$X_0 = 200000$ - стартовый капитал (начальное состояние системы)\n",
        "\n",
        "На каждом этапе должно приниматься управление $u_k$ - один из вариантов вложения средств, $u_k \\in Funds$ - допустимое управление на каждом шаге.\n",
        "\n",
        "Выигрыш - итоговая прибыль от вложений."
      ]
    },
    {
      "cell_type": "code",
      "metadata": {
        "id": "temTR8cqzUWt",
        "colab_type": "code",
        "colab": {}
      },
      "source": [
        "##Можно использовать небольшой пример для отладки работы\n",
        "#N = 2\n",
        "#Firms = []\n",
        "#Firms.append([0, 10, 20]) #Прибыль, приносимая предприятием 1 в зависимости от вложения\n",
        "#Firms.append([0, 18, 25])\n",
        "#Funds = [0, 10, 20]"
      ],
      "execution_count": 0,
      "outputs": []
    },
    {
      "cell_type": "markdown",
      "metadata": {
        "id": "8gdJJLQCKnzk",
        "colab_type": "text"
      },
      "source": [
        "####Вариант решения задачи с применением кэширования"
      ]
    },
    {
      "cell_type": "code",
      "metadata": {
        "id": "4bz4v6jjhCWy",
        "colab_type": "code",
        "colab": {}
      },
      "source": [
        "executions = 0\n",
        "caсhe = dict()\n",
        "def F(X, k):\n",
        "    global executions\n",
        "    if k < N:\n",
        "        D = dict() #Словарь для хранения выгоды по ключу суммы вложения\n",
        "        Du = dict() #Словрь для хранения управления с предыдущих шагов по ключу суммы вложения\n",
        "        U = [] #Текущий список управления\n",
        "        for ind, val in enumerate(Funds): #Сколько можем вложить\n",
        "\n",
        "            if k == N - 1:\n",
        "                executions += 1\n",
        "\n",
        "            gain =  Firms[k][ind] #Какую прибыль получим при данном вложении\n",
        "            if X >= val: #Если можем вложить эту сумму\n",
        "                if (X - val, k+1) in caсhe:\n",
        "                    f = caсhe[(X - val, k+1)]\n",
        "                else:\n",
        "                    f = F(X - val, k+1)\n",
        "                    caсhe[(X - val, k+1)] = f\n",
        "                D[val] = gain + f[0]\n",
        "                Du[val] = f[1]\n",
        "            elif X > 0: #Если не можем вложить столько\n",
        "                if (X, k+1) in caсhe:\n",
        "                    f = caсhe[(X, k+1)]\n",
        "                else:\n",
        "                    f = F(X, k+1)\n",
        "                    caсhe[(X, k+1)] = f            \n",
        "                D[val] = f[0]\n",
        "                Du[val] = f[1]\n",
        "            else: #Если совсем не осталось денег\n",
        "                break\n",
        "\n",
        "        profit = max(D.values()) #Максимальная прибыль\n",
        "        value = max(D, key=D.get) #Управление для получения максимальной прибыли\n",
        "        U = list(Du[value])  # Предыдущие управления\n",
        "        U.append(value)\n",
        "        return max(D.values()), tuple(U)\n",
        "    else:\n",
        "        return 0, []"
      ],
      "execution_count": 0,
      "outputs": []
    },
    {
      "cell_type": "code",
      "metadata": {
        "id": "i11ASxbXlcrO",
        "colab_type": "code",
        "outputId": "759e905d-18a1-48f2-b52a-0b3b1ecb4e62",
        "colab": {
          "base_uri": "https://localhost:8080/",
          "height": 87
        }
      },
      "source": [
        "%%time\n",
        "executions = 0\n",
        "profit, U = F(200, 0)\n",
        "print('Максимальная выгода:', profit, 'Наилучшее управление:', U[::-1])\n",
        "print(\"Количество итераций:\", executions)"
      ],
      "execution_count": 0,
      "outputs": [
        {
          "output_type": "stream",
          "text": [
            "Максимальная выгода: 620 Наилучшее управление: (50, 0, 0, 100, 50)\n",
            "Количество итераций: 222\n",
            "CPU times: user 1.54 ms, sys: 96 µs, total: 1.64 ms\n",
            "Wall time: 1.35 ms\n"
          ],
          "name": "stdout"
        }
      ]
    },
    {
      "cell_type": "markdown",
      "metadata": {
        "id": "Zt_nSm1kKU3u",
        "colab_type": "text"
      },
      "source": [
        "####Вариант решения задачи полным перебором"
      ]
    },
    {
      "cell_type": "code",
      "metadata": {
        "id": "wsje9XTKxjfF",
        "colab_type": "code",
        "outputId": "58506f04-bf20-487c-9866-78091ea7e693",
        "colab": {
          "base_uri": "https://localhost:8080/",
          "height": 87
        }
      },
      "source": [
        "%%time\n",
        "M = 200\n",
        "Max = []\n",
        "U = dict()\n",
        "executions = 0\n",
        "for i1, x1 in enumerate(Funds):\n",
        "    if (x1 > M):\n",
        "        break\n",
        "    for i2, x2 in enumerate(Funds):\n",
        "        if (x1 + x2 > M):\n",
        "            break\n",
        "        for i3, x3 in enumerate(Funds):\n",
        "            if (x1 + x2 + x3 > M):\n",
        "                break\n",
        "            for i4, x4 in enumerate(Funds):\n",
        "                if (x1 + x2 + x3 + x4 > M):\n",
        "                    break\n",
        "                for i5, x5 in enumerate(Funds):\n",
        "                    if (x1 + x2 + x3 + x4 + x5 > M):\n",
        "                        break\n",
        "                    executions += 1\n",
        "                    profit = Firms[0][i1] + Firms[1][i2]+ Firms[2][i3]+ Firms[3][i4]+ Firms[4][i5]\n",
        "                    Max.append(profit)\n",
        "                    U[profit] = (x1, x2, x3, x4, x5)\n",
        "\n",
        "profit = max(Max)\n",
        "print(\"Максимальная выгода:\", profit, 'Опимальное управление:', U[profit])\n",
        "print(\"Количество итераций:\", executions)"
      ],
      "execution_count": 0,
      "outputs": [
        {
          "output_type": "stream",
          "text": [
            "Максимальная выгода: 620 Опимальное управление: (60, 0, 10, 90, 40)\n",
            "Количество итераций: 43120\n",
            "CPU times: user 36.1 ms, sys: 3.01 ms, total: 39.1 ms\n",
            "Wall time: 38.9 ms\n"
          ],
          "name": "stdout"
        }
      ]
    },
    {
      "cell_type": "code",
      "metadata": {
        "id": "vM9NFnuCJ3sp",
        "colab_type": "code",
        "outputId": "0e1f986c-2023-4800-a44b-c653e0741f64",
        "colab": {
          "base_uri": "https://localhost:8080/",
          "height": 404
        }
      },
      "source": [
        "import numpy as np\n",
        "import matplotlib.pyplot as plt\n",
        "%matplotlib inline\n",
        "space = np.linspace(0, 500, num=51)\n",
        "profit = []\n",
        "\n",
        "for m in space:\n",
        "    p, _ = F(m, 0)\n",
        "    profit.append(p)\n",
        "\n",
        "plt.figure(figsize=(13, 6))\n",
        "plt.plot(space, profit)\n",
        "plt.title('Зависимость количества прибыли от количества начального капитала')\n",
        "plt.grid()\n",
        "plt.xlabel('Капитал')\n",
        "plt.ylabel('Прибыль')\n",
        "plt.show()"
      ],
      "execution_count": 0,
      "outputs": [
        {
          "output_type": "display_data",
          "data": {
            "image/png": "[encoded data removed]",
            "text/plain": [
              "<Figure size 936x432 with 1 Axes>"
            ]
          },
          "metadata": {
            "tags": []
          }
        }
      ]
    },
    {
      "cell_type": "code",
      "metadata": {
        "id": "tofEag5zQtH8",
        "colab_type": "code",
        "colab": {}
      },
      "source": [
        ""
      ],
      "execution_count": 0,
      "outputs": []
    }
  ]
}