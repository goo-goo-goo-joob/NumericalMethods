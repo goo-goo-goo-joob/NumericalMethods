{
  "nbformat": 4,
  "nbformat_minor": 0,
  "metadata": {
    "colab": {
      "name": "HW Queue Modeling.ipynb",
      "provenance": [],
      "collapsed_sections": []
    },
    "kernelspec": {
      "name": "python3",
      "display_name": "Python 3"
    },
    "widgets": {
      "application/vnd.jupyter.widget-state+json": {
        "19fc4ebe727840ae8fc688a46e685867": {
          "model_module": "@jupyter-widgets/controls",
          "model_name": "HBoxModel",
          "state": {
            "_view_name": "HBoxView",
            "_dom_classes": [],
            "_model_name": "HBoxModel",
            "_view_module": "@jupyter-widgets/controls",
            "_model_module_version": "1.5.0",
            "_view_count": null,
            "_view_module_version": "1.5.0",
            "box_style": "",
            "layout": "IPY_MODEL_e354d29db0804f14b37d15bb25f414b7",
            "_model_module": "@jupyter-widgets/controls",
            "children": [
              "IPY_MODEL_aad51f683cac46a4a1694de671128aee",
              "IPY_MODEL_c4ac81bc24f9424c8cbe47064650fff1"
            ]
          }
        },
        "e354d29db0804f14b37d15bb25f414b7": {
          "model_module": "@jupyter-widgets/base",
          "model_name": "LayoutModel",
          "state": {
            "_view_name": "LayoutView",
            "grid_template_rows": null,
            "right": null,
            "justify_content": null,
            "_view_module": "@jupyter-widgets/base",
            "overflow": null,
            "_model_module_version": "1.2.0",
            "_view_count": null,
            "flex_flow": null,
            "width": null,
            "min_width": null,
            "border": null,
            "align_items": null,
            "bottom": null,
            "_model_module": "@jupyter-widgets/base",
            "top": null,
            "grid_column": null,
            "overflow_y": null,
            "overflow_x": null,
            "grid_auto_flow": null,
            "grid_area": null,
            "grid_template_columns": null,
            "flex": null,
            "_model_name": "LayoutModel",
            "justify_items": null,
            "grid_row": null,
            "max_height": null,
            "align_content": null,
            "visibility": null,
            "align_self": null,
            "height": null,
            "min_height": null,
            "padding": null,
            "grid_auto_rows": null,
            "grid_gap": null,
            "max_width": null,
            "order": null,
            "_view_module_version": "1.2.0",
            "grid_template_areas": null,
            "object_position": null,
            "object_fit": null,
            "grid_auto_columns": null,
            "margin": null,
            "display": null,
            "left": null
          }
        },
        "aad51f683cac46a4a1694de671128aee": {
          "model_module": "@jupyter-widgets/controls",
          "model_name": "FloatProgressModel",
          "state": {
            "_view_name": "ProgressView",
            "style": "IPY_MODEL_bd11333c0ea142d4b961badb75a8aae0",
            "_dom_classes": [],
            "description": "100%",
            "_model_name": "FloatProgressModel",
            "bar_style": "success",
            "max": 3,
            "_view_module": "@jupyter-widgets/controls",
            "_model_module_version": "1.5.0",
            "value": 3,
            "_view_count": null,
            "_view_module_version": "1.5.0",
            "orientation": "horizontal",
            "min": 0,
            "description_tooltip": null,
            "_model_module": "@jupyter-widgets/controls",
            "layout": "IPY_MODEL_dd1fc5e91d264b958226fec366554fb5"
          }
        },
        "c4ac81bc24f9424c8cbe47064650fff1": {
          "model_module": "@jupyter-widgets/controls",
          "model_name": "HTMLModel",
          "state": {
            "_view_name": "HTMLView",
            "style": "IPY_MODEL_95e7fbbe930e462180b6642517f7fe17",
            "_dom_classes": [],
            "description": "",
            "_model_name": "HTMLModel",
            "placeholder": "​",
            "_view_module": "@jupyter-widgets/controls",
            "_model_module_version": "1.5.0",
            "value": " 3/3 [00:04&lt;00:00,  1.64s/it]",
            "_view_count": null,
            "_view_module_version": "1.5.0",
            "description_tooltip": null,
            "_model_module": "@jupyter-widgets/controls",
            "layout": "IPY_MODEL_55fe45ea81b1407bae168b71fafec66b"
          }
        },
        "bd11333c0ea142d4b961badb75a8aae0": {
          "model_module": "@jupyter-widgets/controls",
          "model_name": "ProgressStyleModel",
          "state": {
            "_view_name": "StyleView",
            "_model_name": "ProgressStyleModel",
            "description_width": "initial",
            "_view_module": "@jupyter-widgets/base",
            "_model_module_version": "1.5.0",
            "_view_count": null,
            "_view_module_version": "1.2.0",
            "bar_color": null,
            "_model_module": "@jupyter-widgets/controls"
          }
        },
        "dd1fc5e91d264b958226fec366554fb5": {
          "model_module": "@jupyter-widgets/base",
          "model_name": "LayoutModel",
          "state": {
            "_view_name": "LayoutView",
            "grid_template_rows": null,
            "right": null,
            "justify_content": null,
            "_view_module": "@jupyter-widgets/base",
            "overflow": null,
            "_model_module_version": "1.2.0",
            "_view_count": null,
            "flex_flow": null,
            "width": null,
            "min_width": null,
            "border": null,
            "align_items": null,
            "bottom": null,
            "_model_module": "@jupyter-widgets/base",
            "top": null,
            "grid_column": null,
            "overflow_y": null,
            "overflow_x": null,
            "grid_auto_flow": null,
            "grid_area": null,
            "grid_template_columns": null,
            "flex": null,
            "_model_name": "LayoutModel",
            "justify_items": null,
            "grid_row": null,
            "max_height": null,
            "align_content": null,
            "visibility": null,
            "align_self": null,
            "height": null,
            "min_height": null,
            "padding": null,
            "grid_auto_rows": null,
            "grid_gap": null,
            "max_width": null,
            "order": null,
            "_view_module_version": "1.2.0",
            "grid_template_areas": null,
            "object_position": null,
            "object_fit": null,
            "grid_auto_columns": null,
            "margin": null,
            "display": null,
            "left": null
          }
        },
        "95e7fbbe930e462180b6642517f7fe17": {
          "model_module": "@jupyter-widgets/controls",
          "model_name": "DescriptionStyleModel",
          "state": {
            "_view_name": "StyleView",
            "_model_name": "DescriptionStyleModel",
            "description_width": "",
            "_view_module": "@jupyter-widgets/base",
            "_model_module_version": "1.5.0",
            "_view_count": null,
            "_view_module_version": "1.2.0",
            "_model_module": "@jupyter-widgets/controls"
          }
        },
        "55fe45ea81b1407bae168b71fafec66b": {
          "model_module": "@jupyter-widgets/base",
          "model_name": "LayoutModel",
          "state": {
            "_view_name": "LayoutView",
            "grid_template_rows": null,
            "right": null,
            "justify_content": null,
            "_view_module": "@jupyter-widgets/base",
            "overflow": null,
            "_model_module_version": "1.2.0",
            "_view_count": null,
            "flex_flow": null,
            "width": null,
            "min_width": null,
            "border": null,
            "align_items": null,
            "bottom": null,
            "_model_module": "@jupyter-widgets/base",
            "top": null,
            "grid_column": null,
            "overflow_y": null,
            "overflow_x": null,
            "grid_auto_flow": null,
            "grid_area": null,
            "grid_template_columns": null,
            "flex": null,
            "_model_name": "LayoutModel",
            "justify_items": null,
            "grid_row": null,
            "max_height": null,
            "align_content": null,
            "visibility": null,
            "align_self": null,
            "height": null,
            "min_height": null,
            "padding": null,
            "grid_auto_rows": null,
            "grid_gap": null,
            "max_width": null,
            "order": null,
            "_view_module_version": "1.2.0",
            "grid_template_areas": null,
            "object_position": null,
            "object_fit": null,
            "grid_auto_columns": null,
            "margin": null,
            "display": null,
            "left": null
          }
        }
      }
    }
  },
  "cells": [
    {
      "cell_type": "markdown",
      "metadata": {
        "id": "_ocwnQJNUVJP",
        "colab_type": "text"
      },
      "source": [
        "Исследовать средний удельный доход в единицу времени $\\rho$ в системе массового\n",
        "\n",
        "обслуживания $М|М|5|\\infty$, где интенсивность входящего потока $\\lambda=8$ $час^{-1}$,\n",
        "\n",
        " интенсивность обслуживания на одном приборе $\\mu=2$ $час^{-1}$,\n",
        " \n",
        "  доход от обслуживания одной заявки составляет $с_1=6$ у.е.,\n",
        "\n",
        "   плата в единицу времени за простой одного прибора $с_2=1$ у.е./час,\n",
        "\n",
        "   плата в единицу времени ожидания заявки в очереди равна $с_3=3$ у.е./час."
      ]
    },
    {
      "cell_type": "code",
      "metadata": {
        "id": "REFHgtZe7zti",
        "colab_type": "code",
        "colab": {}
      },
      "source": [
        "import numpy as np\n",
        "import matplotlib.pyplot as plt\n",
        "from tqdm import tqdm_notebook"
      ],
      "execution_count": 0,
      "outputs": []
    },
    {
      "cell_type": "code",
      "metadata": {
        "id": "TrJCyBsO70Rc",
        "colab_type": "code",
        "colab": {}
      },
      "source": [
        "LAM = 8\n",
        "MU = 2\n",
        "C = [6, -1, -3]\n",
        "T = 1000\n",
        "n = 5"
      ],
      "execution_count": 0,
      "outputs": []
    },
    {
      "cell_type": "markdown",
      "metadata": {
        "id": "4eMWI6puVAaN",
        "colab_type": "text"
      },
      "source": [
        "### Функция моделирования траектории"
      ]
    },
    {
      "cell_type": "code",
      "metadata": {
        "id": "lsE4mKJq71nk",
        "colab_type": "code",
        "colab": {}
      },
      "source": [
        "def trace():\n",
        "    hist = [0]\n",
        "    I = []\n",
        "    TT = [0]\n",
        "    i = 0 # начальное состояние системы\n",
        "    h = np.random.exponential(1 / LAM)\n",
        "    t = h\n",
        "    t1 = h # время, через которое придет требование\n",
        "    t2 = 0 # время, через которое уйдет требование\n",
        "    while t < T:\n",
        "        hist.append((max(n - i, 0) * C[1] +\\\n",
        "                     min(i, n) * C[0] * MU + max(i - n, 0) * C[2]) * h)\n",
        "        I.append(i)\n",
        "        TT.append(t)\n",
        "        i += (t1 == h) - (t2 == h)\n",
        "\n",
        "        t1 = np.random.exponential(1 / LAM)\n",
        "        if i == 0:\n",
        "            h = t1\n",
        "            t2 = 0\n",
        "        else:\n",
        "            t2 = np.random.exponential(1 / (min(i, n) * MU))\n",
        "            h = min(t1, t2)\n",
        "        t += h\n",
        "\n",
        "    return np.sum(hist) / (t - h), I, TT "
      ],
      "execution_count": 0,
      "outputs": []
    },
    {
      "cell_type": "code",
      "metadata": {
        "id": "b8AjO1tENIdf",
        "colab_type": "code",
        "colab": {}
      },
      "source": [
        ""
      ],
      "execution_count": 0,
      "outputs": []
    },
    {
      "cell_type": "code",
      "metadata": {
        "id": "mg1I40hc7gWY",
        "colab_type": "code",
        "outputId": "fd2b5c7d-5e62-48ba-b0ea-be0f30ee904f",
        "colab": {
          "base_uri": "https://localhost:8080/",
          "height": 458
        }
      },
      "source": [
        "plt.figure(figsize=(10, 7))\n",
        "tr = trace()\n",
        "plt.scatter(tr[2][:100], tr[1][:100])\n",
        "plt.scatter(tr[2][1:101], tr[1][:100])\n",
        "#plt.plot(tr[2][:100], tr[1][:100])\n",
        "plt.title('Часть траектории процесса')\n",
        "plt.xlabel('Время')\n",
        "plt.ylabel('Номер состояния')\n",
        "plt.show()"
      ],
      "execution_count": 0,
      "outputs": [
        {
          "output_type": "display_data",
          "data": {
            "image/png": "[encoded data removed]",
            "text/plain": [
              "<Figure size 720x504 with 1 Axes>"
            ]
          },
          "metadata": {
            "tags": [],
            "needs_background": "light"
          }
        }
      ]
    },
    {
      "cell_type": "markdown",
      "metadata": {
        "id": "mYFj0PP7VStb",
        "colab_type": "text"
      },
      "source": [
        "### Моделирование 1000 реализаций траектории"
      ]
    },
    {
      "cell_type": "code",
      "metadata": {
        "id": "gwHc1e_c77Th",
        "colab_type": "code",
        "outputId": "ff56745d-021d-4061-8cd9-4d460affad02",
        "colab": {
          "base_uri": "https://localhost:8080/",
          "height": 119,
          "referenced_widgets": [
            "19fc4ebe727840ae8fc688a46e685867",
            "e354d29db0804f14b37d15bb25f414b7",
            "aad51f683cac46a4a1694de671128aee",
            "c4ac81bc24f9424c8cbe47064650fff1",
            "bd11333c0ea142d4b961badb75a8aae0",
            "dd1fc5e91d264b958226fec366554fb5",
            "95e7fbbe930e462180b6642517f7fe17",
            "55fe45ea81b1407bae168b71fafec66b"
          ]
        }
      },
      "source": [
        "s = []\n",
        "for i in tqdm_notebook(range(3)):\n",
        "    s.append(trace()[0])"
      ],
      "execution_count": 0,
      "outputs": [
        {
          "output_type": "stream",
          "text": [
            "/usr/local/lib/python3.6/dist-packages/ipykernel_launcher.py:2: TqdmDeprecationWarning: This function will be removed in tqdm==5.0.0\n",
            "Please use `tqdm.notebook.tqdm` instead of `tqdm.tqdm_notebook`\n",
            "  \n"
          ],
          "name": "stderr"
        },
        {
          "output_type": "display_data",
          "data": {
            "application/vnd.jupyter.widget-view+json": {
              "model_id": "19fc4ebe727840ae8fc688a46e685867",
              "version_minor": 0,
              "version_major": 2
            },
            "text/plain": [
              "HBox(children=(FloatProgress(value=0.0, max=3.0), HTML(value='')))"
            ]
          },
          "metadata": {
            "tags": []
          }
        },
        {
          "output_type": "stream",
          "text": [
            "\n"
          ],
          "name": "stdout"
        }
      ]
    },
    {
      "cell_type": "code",
      "metadata": {
        "id": "VYTWwsfoNLmL",
        "colab_type": "code",
        "outputId": "5ad4b876-3d68-4860-ca48-9a8643f18159",
        "colab": {
          "base_uri": "https://localhost:8080/",
          "height": 35
        }
      },
      "source": [
        "s"
      ],
      "execution_count": 0,
      "outputs": [
        {
          "output_type": "execute_result",
          "data": {
            "text/plain": [
              "[40.6212485270357, 40.23174689996092, 41.093743930536476]"
            ]
          },
          "metadata": {
            "tags": []
          },
          "execution_count": 8
        }
      ]
    },
    {
      "cell_type": "markdown",
      "metadata": {
        "id": "Z9oZIuIaVaoT",
        "colab_type": "text"
      },
      "source": [
        "### Средний удельный доход в единицу времени\n",
        "\n",
        "Результат компьютерного моделирования ~ совпадает с аналитическим решением - $40.35$."
      ]
    },
    {
      "cell_type": "code",
      "metadata": {
        "id": "cc6JHHb7GhiT",
        "colab_type": "code",
        "outputId": "c4a4afad-c8cf-4381-921c-0d16392ae497",
        "colab": {
          "base_uri": "https://localhost:8080/",
          "height": 35
        }
      },
      "source": [
        "np.mean(s)"
      ],
      "execution_count": 0,
      "outputs": [
        {
          "output_type": "execute_result",
          "data": {
            "text/plain": [
              "40.34046986204199"
            ]
          },
          "metadata": {
            "tags": []
          },
          "execution_count": 6
        }
      ]
    },
    {
      "cell_type": "code",
      "metadata": {
        "id": "6JeXQ_TiWuZs",
        "colab_type": "code",
        "colab": {}
      },
      "source": [
        ""
      ],
      "execution_count": 0,
      "outputs": []
    },
    {
      "cell_type": "code",
      "metadata": {
        "id": "t3HDvkHv73Ws",
        "colab_type": "code",
        "outputId": "be54f06c-5e58-4d2e-8481-cf5bc170dce4",
        "colab": {
          "base_uri": "https://localhost:8080/",
          "height": 52
        }
      },
      "source": [
        "%%time\n",
        "_ = trace()"
      ],
      "execution_count": 0,
      "outputs": [
        {
          "output_type": "stream",
          "text": [
            "CPU times: user 127 ms, sys: 1.91 ms, total: 128 ms\n",
            "Wall time: 131 ms\n"
          ],
          "name": "stdout"
        }
      ]
    },
    {
      "cell_type": "code",
      "metadata": {
        "id": "6K9OSQW38r7n",
        "colab_type": "code",
        "outputId": "55374998-5733-4c58-c372-297acecaa6da",
        "colab": {
          "base_uri": "https://localhost:8080/",
          "height": 513
        }
      },
      "source": [
        "plt.figure(figsize=(10, 8))\n",
        "plt.hist(s, bins=100)\n",
        "plt.title('Распределение доходов')\n",
        "plt.xlabel('Доход')\n",
        "plt.ylabel('Количество траекторий с таким доходом')\n",
        "plt.show()"
      ],
      "execution_count": 0,
      "outputs": [
        {
          "output_type": "display_data",
          "data": {
            "image/png": "[encoded data removed]",
            "text/plain": [
              "<Figure size 720x576 with 1 Axes>"
            ]
          },
          "metadata": {
            "tags": [],
            "needs_background": "light"
          }
        }
      ]
    },
    {
      "cell_type": "code",
      "metadata": {
        "id": "aHbkcZzp6LUS",
        "colab_type": "code",
        "outputId": "8429e36e-a3f2-474b-d4dd-ff024e560547",
        "colab": {
          "base_uri": "https://localhost:8080/",
          "height": 537
        }
      },
      "source": [
        "for u in np.unique(s):\n",
        "    print(u, sum(s == u) / 1000)"
      ],
      "execution_count": 0,
      "outputs": [
        {
          "output_type": "stream",
          "text": [
            "-69 0.001\n",
            "-66 0.001\n",
            "-54 0.001\n",
            "-48 0.001\n",
            "-39 0.001\n",
            "-36 0.003\n",
            "-30 0.001\n",
            "-24 0.003\n",
            "-21 0.001\n",
            "-18 0.005\n",
            "-15 0.006\n",
            "-12 0.008\n",
            "-9 0.005\n",
            "-6 0.008\n",
            "-5 0.006\n",
            "-3 0.007\n",
            "0 0.006\n",
            "2 0.045\n",
            "3 0.019\n",
            "6 0.017\n",
            "9 0.141\n",
            "12 0.035\n",
            "15 0.035\n",
            "16 0.149\n",
            "18 0.039\n",
            "21 0.053\n",
            "23 0.137\n",
            "24 0.059\n",
            "27 0.088\n",
            "30 0.119\n"
          ],
          "name": "stdout"
        }
      ]
    },
    {
      "cell_type": "code",
      "metadata": {
        "id": "7wu-HHFF64WB",
        "colab_type": "code",
        "colab": {}
      },
      "source": [
        ""
      ],
      "execution_count": 0,
      "outputs": []
    }
  ]
}