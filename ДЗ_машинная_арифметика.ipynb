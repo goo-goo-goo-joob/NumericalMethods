{
  "nbformat": 4,
  "nbformat_minor": 0,
  "metadata": {
    "colab": {
      "name": "HW_Errors&MachineArithmetics.ipynb",
      "provenance": [],
      "collapsed_sections": []
    },
    "kernelspec": {
      "name": "python3",
      "display_name": "Python 3"
    }
  },
  "cells": [
    {
      "cell_type": "markdown",
      "metadata": {
        "id": "DkzBw3JGUpnP",
        "colab_type": "text"
      },
      "source": [
        "# Теория погрешностей и машинная арифметика\n",
        "\n",
        "## Самоделкина Мария, БПМ 174\n",
        "\n",
        "Вариант 19 (1.1.19, 1.8, 1.4.5, 1.7 , 1.6, 1.9.2)"
      ]
    },
    {
      "cell_type": "code",
      "metadata": {
        "id": "cOP4W1o1d5ve",
        "colab_type": "code",
        "colab": {}
      },
      "source": [
        "import numpy as np\n",
        "import matplotlib.pyplot as plt\n",
        "%matplotlib inline"
      ],
      "execution_count": 0,
      "outputs": []
    },
    {
      "cell_type": "markdown",
      "metadata": {
        "id": "xIC-r2MWVJSR",
        "colab_type": "text"
      },
      "source": [
        "**Задача 1.1.19**\n",
        "\n",
        "Дан ряд $\\sum_{n=0}^{\\infty}\\cfrac{180}{n^2 + 20n + 99}$. Найти сумму ряда аналитически:\n",
        "\n",
        "$S_N = \\sum_{n=0}^{N}\\cfrac{180}{n^2 + 20n + 99} = \\sum_{n=0}^{N}\\cfrac{180}{(n + 9)(n + 11)} = 180\\sum_{n=0}^{N}\\cfrac{1}{2}(\\cfrac{1}{n + 9} - \\cfrac{1}{n + 11}) = 90 (\\cfrac{1}{9} + \\cfrac{1}{10} - \\cfrac{1}{N+10} - \\cfrac{1}{N+11})$\n",
        "\n",
        "$S = \\lim_{N \\rightarrow \\infty} S_N = 19$\n",
        "\n",
        "**Ответ:** $ S = \\sum_{n=0}^{\\infty}\\cfrac{180}{n^2 + 20n + 99} = 19$\n",
        "\n",
        "Вычислить значения частичных сумм ряда и найти величину погрешности при $N = 10, 10^2, 10^3, 10^4, 10^5$\n",
        "\n",
        "Абсолютная погрешность $d_N = |S_N - S|$"
      ]
    },
    {
      "cell_type": "code",
      "metadata": {
        "id": "bthA9uCxUFLx",
        "colab_type": "code",
        "outputId": "694f3774-f014-4f2b-909c-90d93b191717",
        "colab": {
          "base_uri": "https://localhost:8080/",
          "height": 121
        }
      },
      "source": [
        "def S(N):\n",
        "    return sum(180 / (n**2 + 20*n + 99) for n in range(N+1))\n",
        "\n",
        "x = []\n",
        "height = []\n",
        "print('Значение суммы ряда', 'Величина абсолютной погрешности', 'Количество верных цифр', sep='\\t')\n",
        "for i in range(1, 6):\n",
        "    N = 10**i\n",
        "    S_N = S(N)\n",
        "    d_N = abs(S_N - 19)\n",
        "    x.append(i)\n",
        "    height.append(np.ceil(-np.log10(d_N)+1))\n",
        "    print(S_N, d_N, height[-1], sep='\\t\\t')"
      ],
      "execution_count": 0,
      "outputs": [
        {
          "output_type": "stream",
          "text": [
            "Значение суммы ряда\tВеличина абсолютной погрешности\tКоличество верных цифр\n",
            "10.214285714285714\t\t8.785714285714286\t\t1.0\n",
            "17.37100737100736\t\t1.6289926289926413\t\t1.0\n",
            "18.821870317595547\t\t0.17812968240445315\t\t2.0\n",
            "18.982018880130962\t\t0.017981119869038054\t\t3.0\n",
            "18.998200188979762\t\t0.0017998110202377404\t\t4.0\n"
          ],
          "name": "stdout"
        }
      ]
    },
    {
      "cell_type": "code",
      "metadata": {
        "id": "LBRjkwV6eLsh",
        "colab_type": "code",
        "outputId": "92067d98-5a3a-4fef-e622-3e70ef7ede0f",
        "colab": {
          "base_uri": "https://localhost:8080/",
          "height": 458
        }
      },
      "source": [
        "plt.figure(figsize=(10, 7))\n",
        "plt.title('Гистограмма')\n",
        "plt.ylabel('Количество верных цифр')\n",
        "plt.xlabel('Значения N (степень 10)')\n",
        "plt.bar(x, height)\n",
        "plt.show()"
      ],
      "execution_count": 0,
      "outputs": [
        {
          "output_type": "display_data",
          "data": {
            "image/png": "[encoded data removed]",
            "text/plain": [
              "<Figure size 720x504 with 1 Axes>"
            ]
          },
          "metadata": {
            "tags": []
          }
        }
      ]
    },
    {
      "cell_type": "markdown",
      "metadata": {
        "id": "nJIaDHMolQjh",
        "colab_type": "text"
      },
      "source": [
        "**Задача 1.8**\n",
        "\n",
        "Составить программу, моделирующую вычисления на ЭВМ с ограниченной разрядностью m.\n",
        "Решить **задачу 1.1** для случая $N = 10000$, используя эту программу. Составить график зависимости погрешности от количества разрядов $m=4,5,…,8$."
      ]
    },
    {
      "cell_type": "code",
      "metadata": {
        "id": "MkoqQAF987mM",
        "colab_type": "code",
        "colab": {}
      },
      "source": [
        "def mantissa2bin(man, max_digits=23):\n",
        "    result = ''\n",
        "    for i in range(max_digits):\n",
        "        if man < 0.5:\n",
        "            result += '0'\n",
        "        else:\n",
        "            man -= 0.5\n",
        "            result += '1'\n",
        "        man *= 2.0\n",
        "    return result   \n",
        "def bin2mantissa(b):\n",
        "    current = 0.5\n",
        "    result = 0.0\n",
        "    for digit in b:\n",
        "        if digit == '1':\n",
        "            result += current\n",
        "        current /= 2.0\n",
        "    return result "
      ],
      "execution_count": 0,
      "outputs": []
    },
    {
      "cell_type": "code",
      "metadata": {
        "id": "FFi3LNwlB04M",
        "colab_type": "code",
        "colab": {}
      },
      "source": [
        "def sum_converter(x, max_digits):\n",
        "    m, p = np.frexp(180 / (x**2 + 20*x + 99))\n",
        "    m = bin2mantissa(mantissa2bin(m, max_digits)) \n",
        "    return m * 2.0 ** p"
      ],
      "execution_count": 0,
      "outputs": []
    },
    {
      "cell_type": "code",
      "metadata": {
        "id": "3rVm-hAh-Zfu",
        "colab_type": "code",
        "outputId": "9d73f8c7-5b88-42e8-ea7d-21307e9b5005",
        "colab": {
          "base_uri": "https://localhost:8080/",
          "height": 121
        }
      },
      "source": [
        "def S(N, max_digits):\n",
        "    return sum(sum_converter(n, max_digits) for n in range(N+1))\n",
        "\n",
        "d = []\n",
        "print('Разрядность мантиссы', 'Значение суммы ряда', 'Величина абсолютной погрешности', sep='\\t')\n",
        "for i in range(4, 9):\n",
        "    res = S(10000, i)\n",
        "    d.append(abs(res - 19))\n",
        "    print(i, res, d[-1], sep='\\t\\t\\t')"
      ],
      "execution_count": 0,
      "outputs": [
        {
          "output_type": "stream",
          "text": [
            "Разрядность мантиссы\tЗначение суммы ряда\tВеличина абсолютной погрешности\n",
            "4\t\t\t18.247143983840942\t\t\t0.7528560161590576\n",
            "5\t\t\t18.66738110780716\t\t\t0.3326188921928406\n",
            "6\t\t\t18.83179008960724\t\t\t0.16820991039276123\n",
            "7\t\t\t18.89956071972847\t\t\t0.10043928027153015\n",
            "8\t\t\t18.940522126853466\t\t\t0.059477873146533966\n"
          ],
          "name": "stdout"
        }
      ]
    },
    {
      "cell_type": "code",
      "metadata": {
        "id": "ApJwcXpTMpCz",
        "colab_type": "code",
        "outputId": "092276fd-4118-4bdc-90d5-60594a2a79e8",
        "colab": {
          "base_uri": "https://localhost:8080/",
          "height": 458
        }
      },
      "source": [
        "plt.figure(figsize=(10, 7))\n",
        "plt.title('График зависимости погрешности от количества разрядов')\n",
        "plt.ylabel('Величина абсолютной погрешности')\n",
        "plt.xlabel('Количество разрядов мантиссы')\n",
        "plt.plot(range(4, 9), d)\n",
        "plt.show()"
      ],
      "execution_count": 0,
      "outputs": [
        {
          "output_type": "display_data",
          "data": {
            "image/png": "[encoded data removed]",
            "text/plain": [
              "<Figure size 720x504 with 1 Axes>"
            ]
          },
          "metadata": {
            "tags": []
          }
        }
      ]
    },
    {
      "cell_type": "markdown",
      "metadata": {
        "id": "nViA0iSwegmK",
        "colab_type": "text"
      },
      "source": [
        "Далее вариант на случай, если в задании имелась в виду разрядность числа, а не мантиссы."
      ]
    },
    {
      "cell_type": "code",
      "metadata": {
        "id": "hB6sGdWl01bg",
        "colab_type": "code",
        "outputId": "d837da41-f3c8-470b-e3ea-17fcbc47987b",
        "colab": {
          "base_uri": "https://localhost:8080/",
          "height": 121
        }
      },
      "source": [
        "def S(N, decimals):\n",
        "    x = np.around(np.array([180 / (n**2 + 20*n + 99) for n in range(N+1)]), decimals=decimals)\n",
        "    return np.around(x.sum(), decimals=decimals)\n",
        "\n",
        "d = []\n",
        "print('Разрядность числа', 'Значение суммы ряда', 'Величина абсолютной погрешности', sep='\\t')\n",
        "for i in range(4, 9):\n",
        "    s = S(10**4, i)\n",
        "    d.append(abs(s - 19))\n",
        "    print(i, s, d[-1], sep='\\t\\t')"
      ],
      "execution_count": 0,
      "outputs": [
        {
          "output_type": "stream",
          "text": [
            "Разрядность числа\tЗначение суммы ряда\tВеличина абсолютной погрешности\n",
            "4\t\t18.9184\t\t0.08160000000000167\n",
            "5\t\t18.97434\t\t0.025659999999998462\n",
            "6\t\t18.981974\t\t0.018025999999998987\n",
            "7\t\t18.9820175\t\t0.01798249999999868\n",
            "8\t\t18.98201884\t\t0.017981160000001495\n"
          ],
          "name": "stdout"
        }
      ]
    },
    {
      "cell_type": "code",
      "metadata": {
        "id": "rkbIBRgCe1NL",
        "colab_type": "code",
        "outputId": "aa4138ca-f858-4e91-c281-7dc9efa30272",
        "colab": {
          "base_uri": "https://localhost:8080/",
          "height": 458
        }
      },
      "source": [
        "plt.figure(figsize=(10, 7))\n",
        "plt.title('График зависимости погрешности от количества разрядов')\n",
        "plt.ylabel('Величина абсолютной погрешности')\n",
        "plt.xlabel('Количество разрядов числа')\n",
        "plt.plot(range(4, 9), d)\n",
        "plt.show()"
      ],
      "execution_count": 0,
      "outputs": [
        {
          "output_type": "display_data",
          "data": {
            "image/png": "[encoded data removed]",
            "text/plain": [
              "<Figure size 720x504 with 1 Axes>"
            ]
          },
          "metadata": {
            "tags": []
          }
        }
      ]
    },
    {
      "cell_type": "markdown",
      "metadata": {
        "id": "TWU4N2iTNaCu",
        "colab_type": "text"
      },
      "source": [
        "**Задача 1.4.5**\n",
        "\n",
        "Найти ранг заданной матрицы $A$. Затем внести погрешность в $0.1\\%$ \n",
        "\n",
        "а) в элемент $a_{11}$; \n",
        "\n",
        "b) во все элементы матрицы и снова найти ранг. \n",
        "\n",
        "Объяснить полученные результаты."
      ]
    },
    {
      "cell_type": "code",
      "metadata": {
        "id": "YjKr2ZAGNwzV",
        "colab_type": "code",
        "colab": {}
      },
      "source": [
        "A = [[1.9, 9, 1.6, 0.1],\n",
        "[11.3, 23, 6.8, -3.7],\n",
        "[0.5, 10, 1.1, 1.1],\n",
        "[0.9, -11, -0.6, -2.1]]"
      ],
      "execution_count": 0,
      "outputs": []
    },
    {
      "cell_type": "code",
      "metadata": {
        "id": "-7RWybQSOa7a",
        "colab_type": "code",
        "outputId": "187b99d4-3fba-434e-ca9e-e35d4bd10ccf",
        "colab": {
          "base_uri": "https://localhost:8080/",
          "height": 35
        }
      },
      "source": [
        "np.linalg.matrix_rank(A)"
      ],
      "execution_count": 0,
      "outputs": [
        {
          "output_type": "execute_result",
          "data": {
            "text/plain": [
              "2"
            ]
          },
          "metadata": {
            "tags": []
          },
          "execution_count": 29
        }
      ]
    },
    {
      "cell_type": "code",
      "metadata": {
        "id": "Ci8GrS_TPUhD",
        "colab_type": "code",
        "outputId": "aa9a89d1-b72f-490c-a52f-edefab59f084",
        "colab": {
          "base_uri": "https://localhost:8080/",
          "height": 35
        }
      },
      "source": [
        "A[0][0] = A[0][0] + A[0][0] / 1000\n",
        "np.linalg.matrix_rank(A)"
      ],
      "execution_count": 0,
      "outputs": [
        {
          "output_type": "execute_result",
          "data": {
            "text/plain": [
              "3"
            ]
          },
          "metadata": {
            "tags": []
          },
          "execution_count": 30
        }
      ]
    },
    {
      "cell_type": "code",
      "metadata": {
        "id": "gJjNjmzsR61G",
        "colab_type": "code",
        "outputId": "336f21fa-cd7e-4379-cabe-66899af20fad",
        "colab": {
          "base_uri": "https://localhost:8080/",
          "height": 35
        }
      },
      "source": [
        "for i in range(4):\n",
        "    for j in range(4):\n",
        "        if i or j:\n",
        "            A[i][j] = A[i][j] + A[i][j] / 1000\n",
        "np.linalg.matrix_rank(A)"
      ],
      "execution_count": 0,
      "outputs": [
        {
          "output_type": "execute_result",
          "data": {
            "text/plain": [
              "2"
            ]
          },
          "metadata": {
            "tags": []
          },
          "execution_count": 31
        }
      ]
    },
    {
      "cell_type": "markdown",
      "metadata": {
        "id": "k22i9isrp7WX",
        "colab_type": "text"
      },
      "source": [
        "После внесения погрешности в первый элемент один из миноров стал отличен от 0 и ранг изменился.\n",
        "\n",
        "После внесения одинаково процентных погрешностей ранг матрицы снова стал 2, это эквивалентно умножению элементов матрицы на одно и то же число (ранг матрицы остается тот же)."
      ]
    },
    {
      "cell_type": "markdown",
      "metadata": {
        "id": "iEdMuoKJ3iq1",
        "colab_type": "text"
      },
      "source": [
        "**Задача 1.6**\n",
        "\n",
        "Найти значения машинного нуля, машинной бесконечности, машинного\n",
        "эпсилон\n"
      ]
    },
    {
      "cell_type": "code",
      "metadata": {
        "id": "IB2tZZ552-Dc",
        "colab_type": "code",
        "colab": {}
      },
      "source": [
        "def inf(n):\n",
        "    try:\n",
        "        return 2.0 ** n\n",
        "    except OverflowError:\n",
        "        return float('inf')\n",
        "\n",
        "def zero(n):\n",
        "    return 2.0 ** -(n)\n",
        "\n",
        "def res(n):\n",
        "    return 1.0 + 2.0 ** (-n)"
      ],
      "execution_count": 0,
      "outputs": []
    },
    {
      "cell_type": "code",
      "metadata": {
        "id": "DsbR-m7v4uSh",
        "colab_type": "code",
        "outputId": "11c625f9-89aa-4e81-d229-80d4115b17f5",
        "colab": {
          "base_uri": "https://localhost:8080/",
          "height": 35
        }
      },
      "source": [
        "inf(1020), inf(1023), inf(1024)"
      ],
      "execution_count": 0,
      "outputs": [
        {
          "output_type": "execute_result",
          "data": {
            "text/plain": [
              "(1.1235582092889474e+307, 8.98846567431158e+307, inf)"
            ]
          },
          "metadata": {
            "tags": []
          },
          "execution_count": 189
        }
      ]
    },
    {
      "cell_type": "markdown",
      "metadata": {
        "id": "wj8HGcDVoPBY",
        "colab_type": "text"
      },
      "source": [
        "Машинная бесконечность $X_\\infty \\approx 10^{307}$"
      ]
    },
    {
      "cell_type": "code",
      "metadata": {
        "id": "2LhHYlC640S5",
        "colab_type": "code",
        "outputId": "3630a1cc-a5bd-4975-f9a1-837b1637b288",
        "colab": {
          "base_uri": "https://localhost:8080/",
          "height": 35
        }
      },
      "source": [
        "zero(1050), zero(1074), zero(1075)"
      ],
      "execution_count": 0,
      "outputs": [
        {
          "output_type": "execute_result",
          "data": {
            "text/plain": [
              "(8.289046e-317, 5e-324, 0.0)"
            ]
          },
          "metadata": {
            "tags": []
          },
          "execution_count": 190
        }
      ]
    },
    {
      "cell_type": "markdown",
      "metadata": {
        "id": "SNN1U_uBoTcr",
        "colab_type": "text"
      },
      "source": [
        "Машинный ноль $X_0 \\approx 10^{-324}$"
      ]
    },
    {
      "cell_type": "code",
      "metadata": {
        "id": "A_RIHtfN5NqJ",
        "colab_type": "code",
        "outputId": "1164e905-bd38-45be-d940-d7320ef3de03",
        "colab": {
          "base_uri": "https://localhost:8080/",
          "height": 35
        }
      },
      "source": [
        "res(50), res(52), res(53)"
      ],
      "execution_count": 0,
      "outputs": [
        {
          "output_type": "execute_result",
          "data": {
            "text/plain": [
              "(1.0000000000000009, 1.0000000000000002, 1.0)"
            ]
          },
          "metadata": {
            "tags": []
          },
          "execution_count": 191
        }
      ]
    },
    {
      "cell_type": "code",
      "metadata": {
        "id": "HTlOkmg-oZry",
        "colab_type": "code",
        "outputId": "438a319c-bade-479f-85f9-0b0769a91457",
        "colab": {
          "base_uri": "https://localhost:8080/",
          "height": 35
        }
      },
      "source": [
        "zero(52)"
      ],
      "execution_count": 0,
      "outputs": [
        {
          "output_type": "execute_result",
          "data": {
            "text/plain": [
              "2.220446049250313e-16"
            ]
          },
          "metadata": {
            "tags": []
          },
          "execution_count": 72
        }
      ]
    },
    {
      "cell_type": "markdown",
      "metadata": {
        "id": "g1gQYlGuoc-n",
        "colab_type": "text"
      },
      "source": [
        "Машинное эпсилон $X_\\epsilon \\approx 10^{-16}$"
      ]
    },
    {
      "cell_type": "markdown",
      "metadata": {
        "id": "ecOEermL6-CS",
        "colab_type": "text"
      },
      "source": [
        "**Задача 1.7**\n",
        "\n",
        "Вычислить значения машинного нуля, машинной бесконечности, машинного эпсилон в режимах одинарной и двойной точности на алгоритмическом языке. Сравнить результаты с результатами задачи 1.6.\n",
        "\n",
        "УКАЗАНИЕ: при использовании языка Python, вещественные числа ординарной точности можно получить используя библиотеку NumPy, напр. np.float32(1) и т.д."
      ]
    },
    {
      "cell_type": "code",
      "metadata": {
        "id": "KV8DycJ76m_g",
        "colab_type": "code",
        "colab": {}
      },
      "source": [
        "def inf32(n):\n",
        "    return np.float32(2 ** n)\n",
        "\n",
        "def zero32(n):\n",
        "    return np.float32(2 ** -(n))\n",
        "\n",
        "def res32(n):\n",
        "    return np.float32(1 + 2 ** (-n))"
      ],
      "execution_count": 0,
      "outputs": []
    },
    {
      "cell_type": "code",
      "metadata": {
        "id": "a5W_xru57T1-",
        "colab_type": "code",
        "outputId": "ff56ab88-4ea1-4d02-ea70-b9262ce17e44",
        "colab": {
          "base_uri": "https://localhost:8080/",
          "height": 35
        }
      },
      "source": [
        "inf32(100), inf32(127), inf32(128)"
      ],
      "execution_count": 0,
      "outputs": [
        {
          "output_type": "execute_result",
          "data": {
            "text/plain": [
              "(1.2676506e+30, 1.7014118e+38, inf)"
            ]
          },
          "metadata": {
            "tags": []
          },
          "execution_count": 145
        }
      ]
    },
    {
      "cell_type": "markdown",
      "metadata": {
        "id": "aW6lSE3jkge5",
        "colab_type": "text"
      },
      "source": [
        "Машинная бесконечность $X_\\infty \\approx 10^{38}$\n"
      ]
    },
    {
      "cell_type": "code",
      "metadata": {
        "id": "5_0_yY_Q7WO3",
        "colab_type": "code",
        "outputId": "91e82628-00bf-4670-a472-71fb7d17bf1f",
        "colab": {
          "base_uri": "https://localhost:8080/",
          "height": 35
        }
      },
      "source": [
        "zero32(100), zero32(149), zero32(150)"
      ],
      "execution_count": 0,
      "outputs": [
        {
          "output_type": "execute_result",
          "data": {
            "text/plain": [
              "(7.888609e-31, 1e-45, 0.0)"
            ]
          },
          "metadata": {
            "tags": []
          },
          "execution_count": 146
        }
      ]
    },
    {
      "cell_type": "markdown",
      "metadata": {
        "id": "qlkhcdhylTRe",
        "colab_type": "text"
      },
      "source": [
        "Машинный ноль $X_0 \\approx 10^{-45}$"
      ]
    },
    {
      "cell_type": "code",
      "metadata": {
        "id": "aZzJBZf77sNN",
        "colab_type": "code",
        "outputId": "23fddd2d-2162-4535-a8e5-c70c2c42086c",
        "colab": {
          "base_uri": "https://localhost:8080/",
          "height": 35
        }
      },
      "source": [
        "res32(20), res32(23), res32(24)"
      ],
      "execution_count": 0,
      "outputs": [
        {
          "output_type": "execute_result",
          "data": {
            "text/plain": [
              "(1.000001, 1.0000001, 1.0)"
            ]
          },
          "metadata": {
            "tags": []
          },
          "execution_count": 147
        }
      ]
    },
    {
      "cell_type": "code",
      "metadata": {
        "id": "uwnRq4F3liIz",
        "colab_type": "code",
        "outputId": "bcdbc306-8e78-4cda-8771-dbab7f4d8391",
        "colab": {
          "base_uri": "https://localhost:8080/",
          "height": 35
        }
      },
      "source": [
        "zero32(23)"
      ],
      "execution_count": 0,
      "outputs": [
        {
          "output_type": "execute_result",
          "data": {
            "text/plain": [
              "1.1920929e-07"
            ]
          },
          "metadata": {
            "tags": []
          },
          "execution_count": 68
        }
      ]
    },
    {
      "cell_type": "markdown",
      "metadata": {
        "id": "NnlfOHeMlirk",
        "colab_type": "text"
      },
      "source": [
        "Машинное эпсион $X_\\epsilon \\approx 10^{-7}$"
      ]
    },
    {
      "cell_type": "code",
      "metadata": {
        "id": "ugQHi5tc75Zj",
        "colab_type": "code",
        "colab": {}
      },
      "source": [
        "def inf64(n):\n",
        "    return np.float64(2) ** n\n",
        "\n",
        "def zero64(n):\n",
        "    return np.float64(2 ** -(n))\n",
        "\n",
        "def res64(n):\n",
        "    return np.float64(1 + 2 ** (-n))"
      ],
      "execution_count": 0,
      "outputs": []
    },
    {
      "cell_type": "code",
      "metadata": {
        "id": "Q8hDuIBs-kdJ",
        "colab_type": "code",
        "outputId": "7513a622-5ab1-4622-e22c-54d70812a0af",
        "colab": {
          "base_uri": "https://localhost:8080/",
          "height": 69
        }
      },
      "source": [
        "inf64(1020), inf64(1023), inf64(1024)"
      ],
      "execution_count": 0,
      "outputs": [
        {
          "output_type": "stream",
          "text": [
            "/usr/local/lib/python3.6/dist-packages/ipykernel_launcher.py:2: RuntimeWarning: overflow encountered in double_scalars\n",
            "  \n"
          ],
          "name": "stderr"
        },
        {
          "output_type": "execute_result",
          "data": {
            "text/plain": [
              "(1.1235582092889474e+307, 8.98846567431158e+307, inf)"
            ]
          },
          "metadata": {
            "tags": []
          },
          "execution_count": 193
        }
      ]
    },
    {
      "cell_type": "markdown",
      "metadata": {
        "id": "POSmtcihl7oE",
        "colab_type": "text"
      },
      "source": [
        "Машинная бесконечность $X_\\infty \\approx 10^{307}$"
      ]
    },
    {
      "cell_type": "code",
      "metadata": {
        "id": "5ZPnvk8G-_Ma",
        "colab_type": "code",
        "outputId": "9a1be619-f81a-4e64-dd0e-3208bc379157",
        "colab": {
          "base_uri": "https://localhost:8080/",
          "height": 35
        }
      },
      "source": [
        "zero64(1070), zero64(1074), zero64(1075)"
      ],
      "execution_count": 0,
      "outputs": [
        {
          "output_type": "execute_result",
          "data": {
            "text/plain": [
              "(8e-323, 5e-324, 0.0)"
            ]
          },
          "metadata": {
            "tags": []
          },
          "execution_count": 170
        }
      ]
    },
    {
      "cell_type": "markdown",
      "metadata": {
        "id": "QABzgGCHmGFG",
        "colab_type": "text"
      },
      "source": [
        "Машинный ноль $X_0 \\approx 10^{-324}$"
      ]
    },
    {
      "cell_type": "code",
      "metadata": {
        "id": "SVp2VxkE8LeR",
        "colab_type": "code",
        "outputId": "c8b414f6-7d52-42e6-e7f3-dd6f70027491",
        "colab": {
          "base_uri": "https://localhost:8080/",
          "height": 35
        }
      },
      "source": [
        "res64(50), res64(52), res64(53)"
      ],
      "execution_count": 0,
      "outputs": [
        {
          "output_type": "execute_result",
          "data": {
            "text/plain": [
              "(1.0000000000000009, 1.0000000000000002, 1.0)"
            ]
          },
          "metadata": {
            "tags": []
          },
          "execution_count": 181
        }
      ]
    },
    {
      "cell_type": "code",
      "metadata": {
        "id": "_U32yKfSmOG7",
        "colab_type": "code",
        "outputId": "e86ff4fd-f45e-495f-9f53-59fb105f40c8",
        "colab": {
          "base_uri": "https://localhost:8080/",
          "height": 35
        }
      },
      "source": [
        "zero64(52)"
      ],
      "execution_count": 0,
      "outputs": [
        {
          "output_type": "execute_result",
          "data": {
            "text/plain": [
              "2.220446049250313e-16"
            ]
          },
          "metadata": {
            "tags": []
          },
          "execution_count": 70
        }
      ]
    },
    {
      "cell_type": "markdown",
      "metadata": {
        "id": "vrknjsu7mSEz",
        "colab_type": "text"
      },
      "source": [
        "Машинное эпсилон $X_\\epsilon \\approx 10^{-16}$"
      ]
    },
    {
      "cell_type": "markdown",
      "metadata": {
        "id": "JmLIEEX6pGIb",
        "colab_type": "text"
      },
      "source": [
        "Сравнив результаты с результатами предыдущей задачи можно сказать, что в Python по умолчанию используется тип float64."
      ]
    },
    {
      "cell_type": "markdown",
      "metadata": {
        "id": "Fp7dY8qkUSPo",
        "colab_type": "text"
      },
      "source": [
        "**Задача 1.9.2**\n",
        "\n",
        "Для матрицы $A$ решить вопрос о существовании обратной матрицы в следующих случаях:\n",
        "\n",
        "1) элементы матрицы заданы точно;\n",
        "\n",
        "2) элементы матрицы заданы приближенно с относительной погрешностью a) $δ =α\\%$ и b) $δ = β\\%$. \n",
        "\n",
        "Найти относительную погрешность результата."
      ]
    },
    {
      "cell_type": "code",
      "metadata": {
        "id": "pp6DOwgt8Ndg",
        "colab_type": "code",
        "colab": {}
      },
      "source": [
        "A = np.array([[30, 34, 19],\n",
        "[31.4, 35.4, 20],\n",
        "[24, 28, 13]])\n",
        "\n",
        "alpha = 0.05\n",
        "beta = 0.1"
      ],
      "execution_count": 0,
      "outputs": []
    },
    {
      "cell_type": "code",
      "metadata": {
        "id": "OZZfNIfjVAjF",
        "colab_type": "code",
        "outputId": "5685f306-8146-402d-d62f-3a46ada1de72",
        "colab": {
          "base_uri": "https://localhost:8080/",
          "height": 35
        }
      },
      "source": [
        "np.linalg.det(A)"
      ],
      "execution_count": 0,
      "outputs": [
        {
          "output_type": "execute_result",
          "data": {
            "text/plain": [
              "9.600000000000176"
            ]
          },
          "metadata": {
            "tags": []
          },
          "execution_count": 64
        }
      ]
    },
    {
      "cell_type": "markdown",
      "metadata": {
        "id": "xdRQJ0-DVuJu",
        "colab_type": "text"
      },
      "source": [
        "Обратная матрица существует (определитель отличен от нуля)."
      ]
    },
    {
      "cell_type": "code",
      "metadata": {
        "id": "ZCm4rL5hey1F",
        "colab_type": "code",
        "outputId": "b8c520c1-29c5-49a3-e3be-ddf6aab811c7",
        "colab": {
          "base_uri": "https://localhost:8080/",
          "height": 52
        }
      },
      "source": [
        "for eps in [alpha, beta]:\n",
        "    dets = []\n",
        "    for i in range(2**9):\n",
        "        a = list(map(int, f'{i:09b}')) # перебираем все возможние варианты выбора элементов матрицы\n",
        "        A1 = A.copy()\n",
        "        A1 = A1.reshape(-1, 1)\n",
        "        for j in range(9):\n",
        "            if a[j]:\n",
        "                A1[j] = A1[j] * (1 + eps / 100)\n",
        "            else:\n",
        "                A1[j] = A1[j] * (1 - eps / 100)\n",
        "        dets.append(np.linalg.det(A1.reshape(3, 3)))\n",
        "\n",
        "    print('m:', min(dets), 'M:', max(dets))   "
      ],
      "execution_count": 0,
      "outputs": [
        {
          "output_type": "stream",
          "text": [
            "m: 3.6042036012009144 M: 15.589803598798975\n",
            "m: -2.397585590399123 M: 21.573614390399435\n"
          ],
          "name": "stdout"
        }
      ]
    },
    {
      "cell_type": "markdown",
      "metadata": {
        "id": "Bf4FlKH7i5ew",
        "colab_type": "text"
      },
      "source": [
        "При относительной погрешности $0.05\\%$ обратная матрица существует, поскольку точка 0 не принадлежит отрезку $[m, M]$.\n",
        "\n",
        "При относительной погрешности $0.1\\%$ нельзя ничего сказать о существовании обратной матрицы, поскольку точка 0 принадлежит отрезку $[m, M]$. Возмущение элементов оказалось слишком большим.\n",
        "\n",
        "Чтобы найти относительную погрешность вычисления определителя:\n",
        "\n",
        "* относительная погрешность суммы: $\\delta(a^* \\pm b^*) \\le \\delta_{max}$ \n",
        "* относительная погрешность произведения: $\\delta(a^* b^*) \\le \\delta(a^*) + \\delta(b^*)$\n",
        "\n",
        "Соответственно, погрешность определителя: $\\delta(|A|) \\le \\delta(a^* (b^* c^* - d^* e^*)) \\le \\delta(a^*) + \\delta(b^*) + \\delta(c^*) = 3\\delta(a^*)$\n",
        "\n",
        "При относительной погрешности $0.05\\%$ относительная погрешность вычисления определителя равна $0.15\\%$.\n",
        "\n",
        "При относительной погрешности $0.1\\%$ относительная погрешность вычисления определителя равна $0.3\\%$."
      ]
    },
    {
      "cell_type": "code",
      "metadata": {
        "id": "HUosEDI6j8Eg",
        "colab_type": "code",
        "colab": {}
      },
      "source": [
        ""
      ],
      "execution_count": 0,
      "outputs": []
    }
  ]
}