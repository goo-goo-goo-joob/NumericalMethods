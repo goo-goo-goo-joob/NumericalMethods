{
  "nbformat": 4,
  "nbformat_minor": 0,
  "metadata": {
    "colab": {
      "name": "Самоделкина_ЛР3_174.ipynb",
      "provenance": [],
      "collapsed_sections": []
    },
    "kernelspec": {
      "name": "python3",
      "display_name": "Python 3"
    }
  },
  "cells": [
    {
      "cell_type": "markdown",
      "metadata": {
        "id": "f--LlGAB_5YZ",
        "colab_type": "text"
      },
      "source": [
        "# РЕШЕНИЕ СИСТЕМ ЛИНЕЙНЫХ АЛГЕБРАИЧЕСКИХ УРАВНЕНИЙ ПРЯМЫМИ МЕТОДАМИ. ТЕОРИЯ ВОЗМУЩЕНИЙ\n",
        "\n",
        "## Самоделкина Мария, БПМ 174\n",
        "\n",
        "Вариант 19 (3.1.19, 3.3.5, 3.7)"
      ]
    },
    {
      "cell_type": "code",
      "metadata": {
        "id": "toEo8cCC_Sua",
        "colab_type": "code",
        "colab": {}
      },
      "source": [
        "import numpy as np\n",
        "import matplotlib.pyplot as plt\n",
        "%matplotlib inline"
      ],
      "execution_count": 0,
      "outputs": []
    },
    {
      "cell_type": "markdown",
      "metadata": {
        "id": "2KYYnh6QAV4z",
        "colab_type": "text"
      },
      "source": [
        "**Задача 3.1.19** \n",
        "\n",
        "Дана система уравнений $Ax=b$ порядка $n$. Исследовать зависимость погрешности решения $x$ от погрешностей правой части системы $b$.\n",
        "\n",
        "Компоненты вектора $b$ задаются формулой $b_i=19, \\forall i=1..5$, коэффициенты $c=c_{i,j}=1.9 \\times i \\times j, \\forall i, j=1..5$, коэффициенты $ a_{i,j}=\\cfrac{100}{(11+c)^5} $.\n",
        "\n",
        "Составим матрицу $A$ и вектор $b$."
      ]
    },
    {
      "cell_type": "code",
      "metadata": {
        "id": "bQYX3DBYABYz",
        "colab_type": "code",
        "outputId": "97f43279-ee5d-445a-fe40-52c40a3de6fe",
        "colab": {
          "base_uri": "https://localhost:8080/",
          "height": 208
        }
      },
      "source": [
        "A = np.array([np.array([100 / (11 + 1.9 * i * j) ** 5 for i in range(1, 6)]) for j in range(1, 6)])\n",
        "b = np.repeat(19, 5)\n",
        "print(b)\n",
        "A.view()"
      ],
      "execution_count": 0,
      "outputs": [
        {
          "output_type": "stream",
          "text": [
            "[19 19 19 19 19]\n"
          ],
          "name": "stdout"
        },
        {
          "output_type": "execute_result",
          "data": {
            "text/plain": [
              "array([[2.79931292e-04, 1.40828782e-04, 7.69870439e-05, 4.49195378e-05,\n",
              "        2.76204465e-05],\n",
              "       [1.40828782e-04, 4.49195378e-05, 1.77320892e-05, 8.10015899e-06,\n",
              "        4.11522634e-06],\n",
              "       [7.69870439e-05, 1.77320892e-05, 5.70779544e-06, 2.26681720e-06,\n",
              "        1.03995494e-06],\n",
              "       [4.49195378e-05, 8.10015899e-06, 2.26681720e-06, 8.22239421e-07,\n",
              "        3.54013317e-07],\n",
              "       [2.76204465e-05, 4.11522634e-06, 1.03995494e-06, 3.54013317e-07,\n",
              "        1.45955569e-07]])"
            ]
          },
          "metadata": {
            "tags": []
          },
          "execution_count": 2
        }
      ]
    },
    {
      "cell_type": "code",
      "metadata": {
        "id": "5QvmSVjdABVb",
        "colab_type": "code",
        "outputId": "6ac24056-f1d8-4f16-9c58-e818017e0c50",
        "colab": {
          "base_uri": "https://localhost:8080/",
          "height": 52
        }
      },
      "source": [
        "x = np.linalg.solve(A, b)\n",
        "x"
      ],
      "execution_count": 0,
      "outputs": [
        {
          "output_type": "execute_result",
          "data": {
            "text/plain": [
              "array([ 7.17924675e+06, -1.78236460e+08,  1.19188019e+09, -2.76523648e+09,\n",
              "        2.01169593e+09])"
            ]
          },
          "metadata": {
            "tags": []
          },
          "execution_count": 206
        }
      ]
    },
    {
      "cell_type": "markdown",
      "metadata": {
        "id": "OrgznjGwOhQM",
        "colab_type": "text"
      },
      "source": [
        "Матрица $A$ плохо обусловлена, т.к. $cond(A) \\gg 1$. Тогда для заданнной системы существуют решения, обладающие очень высокой чувствительностью к малым погрешностям входного вектора $b$."
      ]
    },
    {
      "cell_type": "code",
      "metadata": {
        "id": "dhNkjMxVABSe",
        "colab_type": "code",
        "outputId": "843eda62-569e-4ac5-fc5a-81bc9d40db0b",
        "colab": {
          "base_uri": "https://localhost:8080/",
          "height": 35
        }
      },
      "source": [
        "np.linalg.cond(A)"
      ],
      "execution_count": 0,
      "outputs": [
        {
          "output_type": "execute_result",
          "data": {
            "text/plain": [
              "857686.8484601032"
            ]
          },
          "metadata": {
            "tags": []
          },
          "execution_count": 207
        }
      ]
    },
    {
      "cell_type": "markdown",
      "metadata": {
        "id": "eJQ4VS3GGqUv",
        "colab_type": "text"
      },
      "source": [
        "Вычислим вектор $d = (d_1, d_2, .. d_5)^T, d_i = \\cfrac{|| x - x^i ||_\\infty}{|| x ||_\\infty}, i=1..5$ относительных погрешностей решений $x^i$ систем $A x^i = b^i$. Проверим, как влияет погрешность во входном векторе $b$ на погрешность решения. Для этого возмутим по очереди каждую из компонент вектора $b$ на $0.5$ (например)."
      ]
    },
    {
      "cell_type": "code",
      "metadata": {
        "id": "9eyrQptNABPj",
        "colab_type": "code",
        "outputId": "63d5eb7c-63fa-4f83-c13a-5b47751e4ac8",
        "colab": {
          "base_uri": "https://localhost:8080/",
          "height": 104
        }
      },
      "source": [
        "d = []\n",
        "B = []\n",
        "X = []\n",
        "r = -0.5 # произвольная величина погрешности\n",
        "for i in range(5):\n",
        "    b_i = [b[k] + r * (k == i) for k in range(5)]\n",
        "    x_i = np.linalg.solve(A, b_i)\n",
        "    B.append(b_i)\n",
        "    X.append(x_i)\n",
        "    d.append(np.max(abs(x - x_i)) / np.max(abs(x)))\n",
        "d"
      ],
      "execution_count": 0,
      "outputs": [
        {
          "output_type": "execute_result",
          "data": {
            "text/plain": [
              "[0.0003698493164392868,\n",
              " 0.012787451193945584,\n",
              " 0.09727411041241629,\n",
              " 0.24131999526297687,\n",
              " 0.18277927620174836]"
            ]
          },
          "metadata": {
            "tags": []
          },
          "execution_count": 213
        }
      ]
    },
    {
      "cell_type": "markdown",
      "metadata": {
        "id": "64GwDHtbUOga",
        "colab_type": "text"
      },
      "source": [
        "Искажение для четвертой компонеты вектора $b$ оказалось самым существенным. Обозначим $b^m$."
      ]
    },
    {
      "cell_type": "code",
      "metadata": {
        "id": "RkoGe-7UABMv",
        "colab_type": "code",
        "colab": {}
      },
      "source": [
        "b_m = B[3] # вектор b с изменением четвертой компоненты\n",
        "x_m = X[3] # корень системы при изменении четвертой компоненты ветора b"
      ],
      "execution_count": 0,
      "outputs": []
    },
    {
      "cell_type": "markdown",
      "metadata": {
        "id": "oEviXfcQUtdo",
        "colab_type": "text"
      },
      "source": [
        "Относительная погрешность правой части вектора $b$: $\\delta b = \\cfrac{|| b - b^m ||_\\infty}{|| b ||_\\infty}$ в ~$2.6$% привела к относительной погрешности решения $x^m$ в ~$24$%, то есть погрешность возрасла в ~$9$ раз."
      ]
    },
    {
      "cell_type": "code",
      "metadata": {
        "id": "q6kHIfcJUtFy",
        "colab_type": "code",
        "outputId": "aee73253-7398-4516-d3c4-b8da2bbf0f01",
        "colab": {
          "base_uri": "https://localhost:8080/",
          "height": 35
        }
      },
      "source": [
        "db = np.max(abs(b - b_m)) / np.max(abs(b))\n",
        "db"
      ],
      "execution_count": 0,
      "outputs": [
        {
          "output_type": "execute_result",
          "data": {
            "text/plain": [
              "0.02631578947368421"
            ]
          },
          "metadata": {
            "tags": []
          },
          "execution_count": 215
        }
      ]
    },
    {
      "cell_type": "code",
      "metadata": {
        "id": "FTLe9kXEVe5r",
        "colab_type": "code",
        "outputId": "9eca118f-9ee4-4c1a-dd6b-b1b1f1e6d84b",
        "colab": {
          "base_uri": "https://localhost:8080/",
          "height": 35
        }
      },
      "source": [
        "d[3] # d_m - значение максимальной относительной погрешности для x  "
      ],
      "execution_count": 0,
      "outputs": [
        {
          "output_type": "execute_result",
          "data": {
            "text/plain": [
              "0.24131999526297687"
            ]
          },
          "metadata": {
            "tags": []
          },
          "execution_count": 216
        }
      ]
    },
    {
      "cell_type": "code",
      "metadata": {
        "id": "RnpfFgNahN_t",
        "colab_type": "code",
        "outputId": "ef6e58da-5026-4d75-fea4-5272e4473484",
        "colab": {
          "base_uri": "https://localhost:8080/",
          "height": 35
        }
      },
      "source": [
        "d[3] / db"
      ],
      "execution_count": 0,
      "outputs": [
        {
          "output_type": "execute_result",
          "data": {
            "text/plain": [
              "9.170159819993122"
            ]
          },
          "metadata": {
            "tags": []
          },
          "execution_count": 217
        }
      ]
    },
    {
      "cell_type": "markdown",
      "metadata": {
        "id": "JE8H_G6yJuIP",
        "colab_type": "text"
      },
      "source": [
        "Проверим, можно ли исказить входной вектор $b$ так, чтобы значение коэффициента роста ошибки было больше, чем $9$. Расчеты показали, что можно получить значение больше. (Вычислим естественное число обусловленности $||A^{-1}||_\\infty||b||_\\infty / ||x||_\\infty$, используя формулу $cond(A) = ||A||_\\infty ||A^{-1}||_\\infty$). \n",
        "\n",
        "Запишем функцию для вычисления $\\infty$-нормы матрицы."
      ]
    },
    {
      "cell_type": "code",
      "metadata": {
        "id": "T0LAd16Lwq1g",
        "colab_type": "code",
        "colab": {}
      },
      "source": [
        "def matr_inf_norm(A):\n",
        "    return np.max(np.sum(abs(A), axis=1))"
      ],
      "execution_count": 0,
      "outputs": []
    },
    {
      "cell_type": "code",
      "metadata": {
        "id": "wd-RuRcONg9N",
        "colab_type": "code",
        "outputId": "83e07d64-e949-4d45-e302-9feb2682fa23",
        "colab": {
          "base_uri": "https://localhost:8080/",
          "height": 35
        }
      },
      "source": [
        "np.linalg.cond(A) * 19 / (matr_inf_norm(A) * np.max(abs(x)))"
      ],
      "execution_count": 0,
      "outputs": [
        {
          "output_type": "execute_result",
          "data": {
            "text/plain": [
              "10.333716066569732"
            ]
          },
          "metadata": {
            "tags": []
          },
          "execution_count": 47
        }
      ]
    },
    {
      "cell_type": "markdown",
      "metadata": {
        "id": "wVKDlOEadf7o",
        "colab_type": "text"
      },
      "source": [
        "Оценим погрешность решения по формуле $\\delta (x^m) \\le cond(A) \\delta(b^m)$. Относительная погрешность решения $d_m$ для $x^m$ получилась намного меньше теоретической погрешности решения $x^m$ в связи с тем, что значение числа обусловленности для матрицы очень большое. Это значит, что можно подобрать другое искаженное $b^*\\ne0$, чтобы относительная погрешность решения была равна правой части неравнества."
      ]
    },
    {
      "cell_type": "code",
      "metadata": {
        "id": "QnDXM2dRABJz",
        "colab_type": "code",
        "outputId": "0626f09e-54d5-4840-d1fc-0ff795c7ff66",
        "colab": {
          "base_uri": "https://localhost:8080/",
          "height": 35
        }
      },
      "source": [
        "np.linalg.cond(A) * db"
      ],
      "execution_count": 0,
      "outputs": [
        {
          "output_type": "execute_result",
          "data": {
            "text/plain": [
              "1354.2423923054773"
            ]
          },
          "metadata": {
            "tags": []
          },
          "execution_count": 48
        }
      ]
    },
    {
      "cell_type": "markdown",
      "metadata": {
        "id": "T8hLb7fT1IIX",
        "colab_type": "text"
      },
      "source": [
        "**Задача 3.3.5**\n",
        "\n",
        "Дана матрица A. Найти число обусловленности матрицы, используя вычислительный эксперимент."
      ]
    },
    {
      "cell_type": "code",
      "metadata": {
        "id": "D641gt5M1IgU",
        "colab_type": "code",
        "colab": {}
      },
      "source": [
        "A = np.array([[1, 1, 1, 1, 1], \n",
        "     [16, 8, 4, 2, 1], \n",
        "     [81, 27, 9, 3, 1], \n",
        "     [256, 64, 16, 4, 1], \n",
        "     [625, 125, 25, 5, 1]])"
      ],
      "execution_count": 0,
      "outputs": []
    },
    {
      "cell_type": "markdown",
      "metadata": {
        "id": "qFpgIMbcs2dr",
        "colab_type": "text"
      },
      "source": [
        "Выберем последовательность линейно независимых векторов $b^i, i=1..k$. Решим $k$ систем линейных уравнений $A x^i = b^i$.\n",
        "\n",
        "Для каждого найденного решения $x^i$ вычислим отношение $\\cfrac{||x^i||_\\infty}{|| b^i ||_\\infty}, i=1..k$. Найдем макисмальное значение этого отношения - это и есть норма матрицы $||A^{-1}|| \\approx max_{1\\le i\\le k} \\cfrac{||x^i||_\\infty}{|| b^i ||_\\infty}$. Эта формула получается из неравенства $||x|| \\le ||A^{-1}||\\times ||b||$."
      ]
    },
    {
      "cell_type": "code",
      "metadata": {
        "id": "nV-w-ynO1JPr",
        "colab_type": "code",
        "outputId": "50742360-b74b-441c-f40d-d03266576138",
        "colab": {
          "base_uri": "https://localhost:8080/",
          "height": 35
        }
      },
      "source": [
        "max_a = 0\n",
        "for i in range(5):\n",
        "    b = np.zeros(5)\n",
        "    b[i] = np.random.uniform(-100, 100)\n",
        "    x = np.linalg.solve(A, b)\n",
        "    a = np.max(abs(x)) / np.max(abs(b))\n",
        "    if max_a < a:\n",
        "        max_a = a\n",
        "max_a"
      ],
      "execution_count": 0,
      "outputs": [
        {
          "output_type": "execute_result",
          "data": {
            "text/plain": [
              "19.500000000000245"
            ]
          },
          "metadata": {
            "tags": []
          },
          "execution_count": 219
        }
      ]
    },
    {
      "cell_type": "markdown",
      "metadata": {
        "id": "vAcVPkAb1J3U",
        "colab_type": "text"
      },
      "source": [
        "Вычисилим приближенно число обусловленносит матрицы по формуле $cond(A) \\approx ||A||_\\infty ||A^{-1}||_\\infty$."
      ]
    },
    {
      "cell_type": "code",
      "metadata": {
        "id": "iE1FPrDX1JKT",
        "colab_type": "code",
        "outputId": "c1e2cac0-1d30-44cd-857e-b92b439117e9",
        "colab": {
          "base_uri": "https://localhost:8080/",
          "height": 35
        }
      },
      "source": [
        "matr_inf_norm(A) * max_a"
      ],
      "execution_count": 0,
      "outputs": [
        {
          "output_type": "execute_result",
          "data": {
            "text/plain": [
              "15229.500000000191"
            ]
          },
          "metadata": {
            "tags": []
          },
          "execution_count": 220
        }
      ]
    },
    {
      "cell_type": "markdown",
      "metadata": {
        "id": "MwrERm3917-s",
        "colab_type": "text"
      },
      "source": [
        "Проверим результат."
      ]
    },
    {
      "cell_type": "code",
      "metadata": {
        "id": "gJMkxzwV1JHZ",
        "colab_type": "code",
        "outputId": "e539313f-e889-4f77-e5ae-94e4a7e1345c",
        "colab": {
          "base_uri": "https://localhost:8080/",
          "height": 35
        }
      },
      "source": [
        "np.linalg.cond(A)"
      ],
      "execution_count": 0,
      "outputs": [
        {
          "output_type": "execute_result",
          "data": {
            "text/plain": [
              "26169.687970634142"
            ]
          },
          "metadata": {
            "tags": []
          },
          "execution_count": 13
        }
      ]
    },
    {
      "cell_type": "markdown",
      "metadata": {
        "id": "r9_BtUMe1-qP",
        "colab_type": "text"
      },
      "source": [
        "Приближенный метод вычисления показал себя достаточно хорошо. Преимущество такого метода заключается в том, что нам не нужно расчитывать обратную матрицу напрямую, чтобы вычислить ее норму.\n",
        "\n",
        "Из расчетов видно, что полученная метрица плохо обусловлена (число обусловленности намного больше 1)."
      ]
    },
    {
      "cell_type": "markdown",
      "metadata": {
        "id": "Ib_9ElwuxkT6",
        "colab_type": "text"
      },
      "source": [
        "**Задача 3.7** Исследовать зависимость числа обусловленности матрицы $A$ из *задачи 3.1* от порядка $n$ матрицы.\n",
        "\n",
        "Рассмотрим схему единственного деления и LU-разложение.\n",
        "\n",
        "Последовательно (по столбцам слева-направо) зануляем все элементы матрицы $A$ под главной диагональю. На каждом шаге мы конструируем матрицу $\\Lambda_k$, у которой есть главная единичная диагональ и $k$-й столбец под главной диагональю, который состоит из $\\gamma_{i,k} = a_{i, k}/a_{k, k}, k=1..(n-1), i = (k+1)..n$\n",
        "\n",
        "Матрица $U$ (верхняя треугольная матрица) вычисляется как $\\Lambda_{n-1}..\\Lambda_1A$.\n",
        "\n",
        "Тогда верно: $A = (\\Lambda_{n-1}..\\Lambda_1)^{-1}U =\\Lambda_1^{-1}..\\Lambda_{n-1}^{-1}U $. Обозначим $L = \\Lambda_1^{-1}..\\Lambda_{n-1}^{-1} $.\n",
        "\n",
        "По построению $A = LU$.\n",
        "\n",
        "Обратная матрица получается по формуле: $A^{-1} = U^{-1} L^{-1}$."
      ]
    },
    {
      "cell_type": "code",
      "metadata": {
        "id": "GBqSRPQG72Hx",
        "colab_type": "code",
        "colab": {}
      },
      "source": [
        "def LU_decomp(a):\n",
        "    N = a.shape[0]\n",
        "    U = a.copy()\n",
        "    L = np.eye(N)\n",
        "    for j in range(N-1):\n",
        "        # формируем Lambda с единичной главной диагональю и соответствующим столбцом под главной диагональю\n",
        "        Lambda = np.eye(N)\n",
        "        # получим сразу целый столбец, т.к. целый столбец под главной диагональю делим на одно и то же число\n",
        "        gamma = U[j+1:, j] / U[j, j]\n",
        "        Lambda[j+1:, j] = -gamma\n",
        "\n",
        "        # по формуле для U\n",
        "        U = np.dot(Lambda, U) # эти матрицы нужно умножать на предыдущий результат слева \n",
        "        \n",
        "        # обратная матрица для Lambda имеет тот же вид, что и Lambda, но с gamma без минуса\n",
        "        # это можно проверить простым умножением и получить единичную матрицу\n",
        "        # если перемножить все обратные Lambda в этом порядке, то получим соответствующие gamma в столбцах под главной диагональю\n",
        "        L[j+1:, j] = gamma\n",
        "\n",
        "    return L, U"
      ],
      "execution_count": 0,
      "outputs": []
    },
    {
      "cell_type": "markdown",
      "metadata": {
        "id": "t6zZvbZ0rTVC",
        "colab_type": "text"
      },
      "source": [
        "Проверим работу функции."
      ]
    },
    {
      "cell_type": "code",
      "metadata": {
        "id": "UHJ697_KqrOb",
        "colab_type": "code",
        "outputId": "dda35e80-0298-401c-d198-5d48c3e0a6b9",
        "colab": {
          "base_uri": "https://localhost:8080/",
          "height": 69
        }
      },
      "source": [
        "L, U = LU_decomp(np.array([[1, 1, 1], [16, 8, 4], [81, 27, 9]]))\n",
        "L.view()"
      ],
      "execution_count": 0,
      "outputs": [
        {
          "output_type": "execute_result",
          "data": {
            "text/plain": [
              "array([[ 1.  ,  0.  ,  0.  ],\n",
              "       [16.  ,  1.  ,  0.  ],\n",
              "       [81.  ,  6.75,  1.  ]])"
            ]
          },
          "metadata": {
            "tags": []
          },
          "execution_count": 43
        }
      ]
    },
    {
      "cell_type": "code",
      "metadata": {
        "id": "puT8NWNArQQa",
        "colab_type": "code",
        "outputId": "aeb34838-e872-4fe6-9f7f-bd8106614a8d",
        "colab": {
          "base_uri": "https://localhost:8080/",
          "height": 69
        }
      },
      "source": [
        "U.view()"
      ],
      "execution_count": 0,
      "outputs": [
        {
          "output_type": "execute_result",
          "data": {
            "text/plain": [
              "array([[  1.,   1.,   1.],\n",
              "       [  0.,  -8., -12.],\n",
              "       [  0.,   0.,   9.]])"
            ]
          },
          "metadata": {
            "tags": []
          },
          "execution_count": 44
        }
      ]
    },
    {
      "cell_type": "markdown",
      "metadata": {
        "id": "h0S_86sv46QJ",
        "colab_type": "text"
      },
      "source": [
        "Составим функции для вычисления матриц, обратных к верхне треугольным и нижне треугольным."
      ]
    },
    {
      "cell_type": "code",
      "metadata": {
        "id": "oX4sjAM6rF-H",
        "colab_type": "code",
        "colab": {}
      },
      "source": [
        "def inv_lower(L):\n",
        "    N = L.shape[0]\n",
        "    A = L.copy()\n",
        "\n",
        "    # изменение элементов на главной диагонали\n",
        "    for k in range(N):\n",
        "        A[k, k] = 1. / A[k, k]\n",
        "\n",
        "    # изменение элементов ниже главной диагонали   \n",
        "    for i in range(1, N): \n",
        "      for j in range(i): \n",
        "         s = 0\n",
        "         for k in range(j, i):\n",
        "            s += A[i, k] * A[k, j]\n",
        "         A[i, j] = - A[i, i] * s\n",
        "    return A\n",
        "\n",
        "def inv_upper(U):\n",
        "    N = U.shape[0]\n",
        "    A = U.copy()\n",
        "\n",
        "    # изменение элементов на главной диагонали\n",
        "    for k in range(N):\n",
        "        A[k, k] = 1. / A[k, k]\n",
        "\n",
        "    # изменение элементов выше главной диагонали      \n",
        "    for i in range(1, N): \n",
        "      for j in range(i): \n",
        "         s = 0\n",
        "         for k in range(j, i):\n",
        "            s += A[k, i] * A[j, k]\n",
        "         A[j, i] = - A[i, i] * s\n",
        "    return A"
      ],
      "execution_count": 0,
      "outputs": []
    },
    {
      "cell_type": "markdown",
      "metadata": {
        "id": "iDaIfFrN6CDe",
        "colab_type": "text"
      },
      "source": [
        "Функции работают верно."
      ]
    },
    {
      "cell_type": "code",
      "metadata": {
        "id": "rTVh8npSy6T6",
        "colab_type": "code",
        "outputId": "2f5ff57b-36da-4715-d72b-100de9a7d2c4",
        "colab": {
          "base_uri": "https://localhost:8080/",
          "height": 69
        }
      },
      "source": [
        "A = np.array([[1, 2, 3],[0, 2, 3],[0, 0, 5]], dtype=np.float32)\n",
        "inv_upper(A)"
      ],
      "execution_count": 0,
      "outputs": [
        {
          "output_type": "execute_result",
          "data": {
            "text/plain": [
              "array([[ 1. , -1. , -0. ],\n",
              "       [ 0. ,  0.5, -0.3],\n",
              "       [ 0. ,  0. ,  0.2]], dtype=float32)"
            ]
          },
          "metadata": {
            "tags": []
          },
          "execution_count": 156
        }
      ]
    },
    {
      "cell_type": "code",
      "metadata": {
        "id": "ho1k24NXP_Ej",
        "colab_type": "code",
        "outputId": "899d6b30-0744-463b-a077-478f5e4d49e6",
        "colab": {
          "base_uri": "https://localhost:8080/",
          "height": 69
        }
      },
      "source": [
        "A = np.array([[1, 0, 0],[2, 3, 0],[4, 6, 5]], dtype=np.float32)\n",
        "inv_lower(A)"
      ],
      "execution_count": 0,
      "outputs": [
        {
          "output_type": "execute_result",
          "data": {
            "text/plain": [
              "array([[ 1.        ,  0.        ,  0.        ],\n",
              "       [-0.6666667 ,  0.33333334,  0.        ],\n",
              "       [-0.        , -0.4       ,  0.2       ]], dtype=float32)"
            ]
          },
          "metadata": {
            "tags": []
          },
          "execution_count": 149
        }
      ]
    },
    {
      "cell_type": "markdown",
      "metadata": {
        "id": "6nMhFZHs6Www",
        "colab_type": "text"
      },
      "source": [
        "Далее для каждого значения $n$ (размер матрицы) считаем число обусловленности по формуле $cond(A) = ||A||_\\infty ||A^{-1}||_\\infty$. Используем функцию, для вычисления нормы матрицы из 1го задания."
      ]
    },
    {
      "cell_type": "code",
      "metadata": {
        "id": "-RXTF7XMxj_n",
        "colab_type": "code",
        "outputId": "72f8137e-b09e-4ab4-c1cc-2d8ebea977e4",
        "colab": {
          "base_uri": "https://localhost:8080/",
          "height": 364
        }
      },
      "source": [
        "cnd = []\n",
        "for n in range(2, 22):\n",
        "    A = np.array([np.array([100 / (11 + 1.9 * i * j) ** 5 for i in range(1, n)]) for j in range(1, n)])\n",
        "    L, U = LU_decomp(A)\n",
        "    A_ = np.dot(inv_upper(U), inv_lower(L))\n",
        "    normA = matr_inf_norm(A)\n",
        "    normA_ = matr_inf_norm(A_)\n",
        "    cond = normA * normA_\n",
        "    print(f'n = {n-1:>2} : '\n",
        "    f'cond = {np.format_float_scientific(cond, precision=6):>12}, '\n",
        "    f'норма A = {normA:.6f}, '\n",
        "    f'норма inv(A) {np.format_float_scientific(normA_, precision=6):>12}')\n",
        "    cnd.append(cond)"
      ],
      "execution_count": 0,
      "outputs": [
        {
          "output_type": "stream",
          "text": [
            "n =  1 : cond =       1.e+00, норма A = 0.000280, норма inv(A) 3.572305e+03\n",
            "n =  2 : cond = 2.439105e+01, норма A = 0.000421, норма inv(A) 5.796902e+04\n",
            "n =  3 : cond = 6.274639e+02, норма A = 0.000498, норма inv(A) 1.260608e+06\n",
            "n =  4 : cond = 2.449147e+04, норма A = 0.000543, норма inv(A) 4.513169e+07\n",
            "n =  5 : cond = 1.685887e+06, норма A = 0.000570, норма inv(A) 2.956207e+09\n",
            "n =  6 : cond = 1.553664e+08, норма A = 0.000588, норма inv(A) 2.642200e+11\n",
            "n =  7 : cond = 1.858625e+10, норма A = 0.000600, норма inv(A)  3.09863e+13\n",
            "n =  8 : cond = 2.801571e+12, норма A = 0.000608, норма inv(A)  4.60844e+15\n",
            "n =  9 : cond = 5.190779e+14, норма A = 0.000614, норма inv(A) 8.459141e+17\n",
            "n = 10 : cond = 1.284649e+17, норма A = 0.000618, норма inv(A) 2.079579e+20\n",
            "n = 11 : cond = 8.618856e+19, норма A = 0.000621, норма inv(A) 1.388409e+23\n",
            "n = 12 : cond = 1.323211e+20, норма A = 0.000623, норма inv(A) 2.123802e+23\n",
            "n = 13 : cond = 5.417246e+20, норма A = 0.000625, норма inv(A) 8.670878e+23\n",
            "n = 14 : cond = 4.044529e+21, норма A = 0.000626, норма inv(A) 6.459940e+24\n",
            "n = 15 : cond = 1.926411e+21, норма A = 0.000627, норма inv(A)  3.07177e+24\n",
            "n = 16 : cond = 1.286585e+21, норма A = 0.000628, норма inv(A) 2.048846e+24\n",
            "n = 17 : cond = 2.768284e+21, норма A = 0.000629, норма inv(A) 4.403796e+24\n",
            "n = 18 : cond = 4.741771e+21, норма A = 0.000629, норма inv(A) 7.536872e+24\n",
            "n = 19 : cond = 5.396538e+22, норма A = 0.000630, норма inv(A) 8.571722e+25\n",
            "n = 20 : cond = 4.394089e+21, норма A = 0.000630, норма inv(A) 6.975536e+24\n"
          ],
          "name": "stdout"
        }
      ]
    },
    {
      "cell_type": "code",
      "metadata": {
        "id": "OixFe4Piwk8m",
        "colab_type": "code",
        "outputId": "d6756915-4dfc-45a9-ef46-e43a78ea734f",
        "colab": {
          "base_uri": "https://localhost:8080/",
          "height": 513
        }
      },
      "source": [
        "plt.figure(figsize=(13, 8))\n",
        "plt.scatter(range(2, 22), cnd)\n",
        "plt.yscale(\"log\")\n",
        "plt.title('Рост числа обусловленности (логарифмическая шкала)')\n",
        "plt.ylabel('Число обусловленности (cond)')\n",
        "plt.xlabel('Размер матрицы (n)')\n",
        "plt.show()"
      ],
      "execution_count": 0,
      "outputs": [
        {
          "output_type": "display_data",
          "data": {
            "image/png": "[encoded data removed]",
            "text/plain": [
              "<Figure size 936x576 with 1 Axes>"
            ]
          },
          "metadata": {
            "tags": [],
            "needs_background": "light"
          }
        }
      ]
    },
    {
      "cell_type": "markdown",
      "metadata": {
        "id": "jClnGspk3SCu",
        "colab_type": "text"
      },
      "source": [
        "Число обусловленности сильно растет в зависимости от $n$. \n",
        "\n",
        "Если не использовать логарифмическую шкалу, то график получается не наглядным - последняя точка всегда получается намного выше остальных.\n",
        "\n",
        "До размера матрицы 11 рост числа обусловенности экспоненциальный, а дальше рост замедляется. Получаются очень большие числа, т.к. элементы матрицы очень маленькие (делим на большое число), соответственно, элементы обратной матрицы очень большие, и ее норма тоже очень большая. Рост числа обусловлености практически останавливается, когда норма обратной матрицы перестает изменяться (изменение нормы самой матрицы прекращается раньше)."
      ]
    },
    {
      "cell_type": "code",
      "metadata": {
        "id": "FwskM2hoGXdv",
        "colab_type": "code",
        "colab": {}
      },
      "source": [
        ""
      ],
      "execution_count": 0,
      "outputs": []
    }
  ]
}