{
  "nbformat": 4,
  "nbformat_minor": 0,
  "metadata": {
    "colab": {
      "name": "ДЗ_решение_уравнений.ipynb",
      "provenance": []
    },
    "kernelspec": {
      "name": "python3",
      "display_name": "Python 3"
    }
  },
  "cells": [
    {
      "cell_type": "markdown",
      "metadata": {
        "id": "DvjrhEB6-B-t",
        "colab_type": "text"
      },
      "source": [
        "# Решение уравнений"
      ]
    },
    {
      "cell_type": "code",
      "metadata": {
        "id": "BGJbmLM389XJ",
        "colab_type": "code",
        "colab": {}
      },
      "source": [
        "import numpy as np"
      ],
      "execution_count": 0,
      "outputs": []
    },
    {
      "cell_type": "code",
      "metadata": {
        "id": "6D2Wrv09-Djc",
        "colab_type": "code",
        "colab": {}
      },
      "source": [
        "def f(x):\n",
        "    return np.log(x) + np.cos(np.pi * x / 2) * np.exp(-pow(x, 2))\n",
        "def f_d(x):\n",
        "    return 1/x - 2 * np.exp(-x**2) * x * np.cos((np.pi * x) / 2) - 1/2 * np.exp(-x**2) * np.pi * np.sin((np.pi * x) / 2)   "
      ],
      "execution_count": 0,
      "outputs": []
    },
    {
      "cell_type": "markdown",
      "metadata": {
        "id": "3pIh_ULG-JGS",
        "colab_type": "text"
      },
      "source": [
        "## Метод бисекции"
      ]
    },
    {
      "cell_type": "code",
      "metadata": {
        "id": "KkCOSu3h-NrC",
        "colab_type": "code",
        "colab": {}
      },
      "source": [
        "def bisect(f, a, b, N_max = 1000, eps = 1e-12):\n",
        "    tmp = 1\n",
        "    if f(a) < 0:\n",
        "        tmp = -1\n",
        "    N_iter = 0\n",
        "    while N_iter < N_max:\n",
        "        x = (a + b) / 2\n",
        "        f_x = f(x)\n",
        "        if abs(f_x) < eps:\n",
        "            break\n",
        "        if tmp * f_x < 0:\n",
        "            b = x\n",
        "        else:\n",
        "            a = x\n",
        "        N_iter += 1\n",
        "    return x"
      ],
      "execution_count": 0,
      "outputs": []
    },
    {
      "cell_type": "code",
      "metadata": {
        "id": "iINOkwjM_1NU",
        "colab_type": "code",
        "colab": {
          "base_uri": "https://localhost:8080/",
          "height": 35
        },
        "outputId": "200bb6a7-e5cf-4337-8797-01b56434d3a2"
      },
      "source": [
        "bisect(f, 0.5, 3)"
      ],
      "execution_count": 105,
      "outputs": [
        {
          "output_type": "execute_result",
          "data": {
            "text/plain": [
              "1.000000000001819"
            ]
          },
          "metadata": {
            "tags": []
          },
          "execution_count": 105
        }
      ]
    },
    {
      "cell_type": "markdown",
      "metadata": {
        "id": "BXccTG0G-OhN",
        "colab_type": "text"
      },
      "source": [
        "## Метод Ньютона"
      ]
    },
    {
      "cell_type": "code",
      "metadata": {
        "id": "NIy8HUXP-XeI",
        "colab_type": "code",
        "colab": {}
      },
      "source": [
        "def newton(f, f_der, a, b, x0, N_max = 1000, eps = 1e-12):\n",
        "    N_iter = 0\n",
        "    f_x = f(x0)\n",
        "    while N_iter < N_max:\n",
        "        fd_x = f_der(x0)\n",
        "        x0 = x0 - f_x / fd_x\n",
        "        f_x = f(x0)\n",
        "        N_iter += 1\n",
        "        if abs(f_x) < eps:\n",
        "            break\n",
        "    return x0"
      ],
      "execution_count": 0,
      "outputs": []
    },
    {
      "cell_type": "code",
      "metadata": {
        "id": "Mfas5aExTbkg",
        "colab_type": "code",
        "colab": {
          "base_uri": "https://localhost:8080/",
          "height": 35
        },
        "outputId": "a0c63974-356a-427b-e4a2-170781c4d0cd"
      },
      "source": [
        "newton(f, f_d, 0.5, 3, 2.51)"
      ],
      "execution_count": 128,
      "outputs": [
        {
          "output_type": "execute_result",
          "data": {
            "text/plain": [
              "1.000000000000009"
            ]
          },
          "metadata": {
            "tags": []
          },
          "execution_count": 128
        }
      ]
    },
    {
      "cell_type": "markdown",
      "metadata": {
        "id": "weTm96Dj-YEg",
        "colab_type": "text"
      },
      "source": [
        "## Метод секущих"
      ]
    },
    {
      "cell_type": "code",
      "metadata": {
        "id": "IZfP25kp-atT",
        "colab_type": "code",
        "colab": {}
      },
      "source": [
        "def secant(f, a, b, x0, x1, N_max = 1000, eps = 1e-12):\n",
        "    N_iter = 0\n",
        "    f_x0 = f(x0)\n",
        "    f_x1 = f(x1)\n",
        "    while N_iter < N_max:\n",
        "        f_der = (f_x0 - f_x1) / (x0 - x1)\n",
        "        x2 = x1 - f_x1 / f_der\n",
        "        f_x2 = f(x2)\n",
        "        f_x0, f_x1 = f_x1, f_x2\n",
        "        x0, x1 = x1, x2\n",
        "        N_iter += 1\n",
        "        if abs(f_x2) < eps:\n",
        "            break\n",
        "    return x2"
      ],
      "execution_count": 0,
      "outputs": []
    },
    {
      "cell_type": "code",
      "metadata": {
        "id": "_esXAh9xNlbK",
        "colab_type": "code",
        "colab": {
          "base_uri": "https://localhost:8080/",
          "height": 35
        },
        "outputId": "0753285d-941d-4f43-a712-9c7da3a52d0a"
      },
      "source": [
        "secant(f, 0.5, 3, 1.1, 1.5)"
      ],
      "execution_count": 118,
      "outputs": [
        {
          "output_type": "execute_result",
          "data": {
            "text/plain": [
              "1.0000000000000737"
            ]
          },
          "metadata": {
            "tags": []
          },
          "execution_count": 118
        }
      ]
    },
    {
      "cell_type": "code",
      "metadata": {
        "id": "digQbKkfNvJw",
        "colab_type": "code",
        "colab": {}
      },
      "source": [
        ""
      ],
      "execution_count": 0,
      "outputs": []
    }
  ]
}