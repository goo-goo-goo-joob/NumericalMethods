{
  "nbformat": 4,
  "nbformat_minor": 0,
  "metadata": {
    "colab": {
      "name": "ДЗ_решение_уравнений.ipynb",
      "provenance": [],
      "collapsed_sections": []
    },
    "kernelspec": {
      "name": "python3",
      "display_name": "Python 3"
    }
  },
  "cells": [
    {
      "cell_type": "markdown",
      "metadata": {
        "id": "DvjrhEB6-B-t",
        "colab_type": "text"
      },
      "source": [
        "# Решение нелинейных уравнений\n",
        "Варинат 19 (задачи 2.1.19, 2.2.4, 2.10.2)"
      ]
    },
    {
      "cell_type": "code",
      "metadata": {
        "id": "BGJbmLM389XJ",
        "colab_type": "code",
        "colab": {}
      },
      "source": [
        "import numpy as np\n",
        "import matplotlib.pyplot as plt\n",
        "%matplotlib inline\n",
        "from scipy.optimize import fsolve"
      ],
      "execution_count": 0,
      "outputs": []
    },
    {
      "cell_type": "code",
      "metadata": {
        "id": "6D2Wrv09-Djc",
        "colab_type": "code",
        "colab": {}
      },
      "source": [
        "def f(x):\n",
        "    return np.log(x) + np.cos(np.pi * x / 2) * np.exp(-pow(x, 2))\n",
        "def f_d(x):\n",
        "    return 1/x - 2 * np.exp(-x**2) * x * np.cos((np.pi * x) / 2) - 1/2 * np.exp(-x**2) * np.pi * np.sin((np.pi * x) / 2)   "
      ],
      "execution_count": 0,
      "outputs": []
    },
    {
      "cell_type": "markdown",
      "metadata": {
        "id": "3pIh_ULG-JGS",
        "colab_type": "text"
      },
      "source": [
        "## Метод бисекции"
      ]
    },
    {
      "cell_type": "code",
      "metadata": {
        "id": "KkCOSu3h-NrC",
        "colab_type": "code",
        "colab": {}
      },
      "source": [
        "def bisect(f, a, b, N_max = 1000, eps = 1e-12, show_iter=False):\n",
        "    if f(a) == 0:\n",
        "        return a\n",
        "    elif f(b) == 0:\n",
        "        return b\n",
        "    N_iter = 0\n",
        "    x_prev = a\n",
        "    while N_iter < N_max:\n",
        "        x = (a + b) / 2\n",
        "        if abs(x - x_prev) < eps:\n",
        "            break\n",
        "        if f(a) * f(x) < 0:\n",
        "            b = x\n",
        "        else:\n",
        "            a = x\n",
        "        x_prev = x\n",
        "        N_iter += 1\n",
        "    if show_iter:\n",
        "        print('Количество итераций:', N_iter)\n",
        "    return x"
      ],
      "execution_count": 0,
      "outputs": []
    },
    {
      "cell_type": "code",
      "metadata": {
        "id": "iINOkwjM_1NU",
        "colab_type": "code",
        "outputId": "200bb6a7-e5cf-4337-8797-01b56434d3a2",
        "colab": {
          "base_uri": "https://localhost:8080/",
          "height": 35
        }
      },
      "source": [
        "bisect(f, 0.5, 3)"
      ],
      "execution_count": 0,
      "outputs": [
        {
          "output_type": "execute_result",
          "data": {
            "text/plain": [
              "1.000000000001819"
            ]
          },
          "metadata": {
            "tags": []
          },
          "execution_count": 105
        }
      ]
    },
    {
      "cell_type": "markdown",
      "metadata": {
        "id": "BXccTG0G-OhN",
        "colab_type": "text"
      },
      "source": [
        "## Метод Ньютона"
      ]
    },
    {
      "cell_type": "code",
      "metadata": {
        "id": "NIy8HUXP-XeI",
        "colab_type": "code",
        "colab": {}
      },
      "source": [
        "def newton(f, f_der, x0, N_max = 1000, eps = 1e-12, show_iter=False):\n",
        "    N_iter = 0\n",
        "    x_prev = x0\n",
        "    while N_iter < N_max:\n",
        "        x0 = x0 - f(x0) / f_der(x0)\n",
        "        if abs(x0 - x_prev) < eps:\n",
        "            break\n",
        "        x_prev = x0\n",
        "        N_iter += 1    \n",
        "    if show_iter:\n",
        "        print('Количество итераций:', N_iter)\n",
        "    return x0"
      ],
      "execution_count": 0,
      "outputs": []
    },
    {
      "cell_type": "code",
      "metadata": {
        "id": "Mfas5aExTbkg",
        "colab_type": "code",
        "outputId": "a0c63974-356a-427b-e4a2-170781c4d0cd",
        "colab": {
          "base_uri": "https://localhost:8080/",
          "height": 35
        }
      },
      "source": [
        "newton(f, f_d, 2.51)"
      ],
      "execution_count": 0,
      "outputs": [
        {
          "output_type": "execute_result",
          "data": {
            "text/plain": [
              "1.000000000000009"
            ]
          },
          "metadata": {
            "tags": []
          },
          "execution_count": 128
        }
      ]
    },
    {
      "cell_type": "markdown",
      "metadata": {
        "id": "weTm96Dj-YEg",
        "colab_type": "text"
      },
      "source": [
        "## Метод секущих"
      ]
    },
    {
      "cell_type": "code",
      "metadata": {
        "id": "IZfP25kp-atT",
        "colab_type": "code",
        "colab": {}
      },
      "source": [
        "def secant(f, x0, x1, N_max = 1000, eps = 1e-8):\n",
        "    N_iter = 0\n",
        "    f_x0 = f(x0)\n",
        "    f_x1 = f(x1)\n",
        "    while N_iter < N_max:\n",
        "        f_der = (f_x0 - f_x1) / (x0 - x1)\n",
        "        x2 = x1 - f_x1 / f_der\n",
        "        f_x2 = f(x2)\n",
        "        if abs(x2 - x1) < eps:\n",
        "            break\n",
        "        N_iter += 1\n",
        "        f_x0, f_x1 = f_x1, f_x2\n",
        "        x0, x1 = x1, x2\n",
        "    return x2"
      ],
      "execution_count": 0,
      "outputs": []
    },
    {
      "cell_type": "code",
      "metadata": {
        "id": "_esXAh9xNlbK",
        "colab_type": "code",
        "outputId": "94a8a2e6-0d07-49c7-906e-fa7f3b3bb570",
        "colab": {
          "base_uri": "https://localhost:8080/",
          "height": 35
        }
      },
      "source": [
        "secant(f, 1.1, 1.5)"
      ],
      "execution_count": 42,
      "outputs": [
        {
          "output_type": "execute_result",
          "data": {
            "text/plain": [
              "1.0000000000000737"
            ]
          },
          "metadata": {
            "tags": []
          },
          "execution_count": 42
        }
      ]
    },
    {
      "cell_type": "markdown",
      "metadata": {
        "id": "9qtiIiZ4QBy2",
        "colab_type": "text"
      },
      "source": [
        "## Локализация корней"
      ]
    },
    {
      "cell_type": "code",
      "metadata": {
        "id": "mbyTcvS6QI58",
        "colab_type": "code",
        "colab": {}
      },
      "source": [
        "def localize(f, a, b, f_name = 'f'):\n",
        "    x = np.linspace(a, b, num=100)\n",
        "    y = [f(x_) for x_ in x]\n",
        "\n",
        "    plt.figure(figsize=(13, 6))\n",
        "    plt.plot(x, y)\n",
        "    plt.title(f'Функция ${f_name}(x)$')\n",
        "    plt.grid()\n",
        "    plt.xlabel('x')\n",
        "    plt.ylabel(f'${f_name}(x)$')\n",
        "    plt.show()"
      ],
      "execution_count": 0,
      "outputs": []
    },
    {
      "cell_type": "markdown",
      "metadata": {
        "id": "8dINhNyZCztS",
        "colab_type": "text"
      },
      "source": [
        "**Задача 2.1.** Даны два уравнения $f(x)=0$ и $g(x)=0$. Найти с точностью $ε = 10^{-10}$ все корни уравнений, содержащиеся на отрезке $[a, b]$.\n",
        "\n",
        "$f(x) = cos(x)^2 - \\cfrac{2}{35} cos(x) - \\cfrac{1}{35}$\n",
        "\n",
        "$g(x) = cos(x)^2 - \\cfrac{2}{5} cos(x) + \\cfrac{1}{25}$\n",
        "\n",
        "$[a, b] = [0, 3]$\n",
        "\n",
        "**Аналитическое решение** $f(x) = 0$: \n",
        "\n",
        "$f(x) = (cos(x) - \\cfrac{1}{5})(cos(x) + \\cfrac{1}{7})$\n",
        "\n",
        "$x_1 = arccos(\\cfrac{1}{5}) = 1.3694, x_2 = \\pi - arccos(\\cfrac{1}{7})= 1.7141$\n",
        "\n",
        "**Аналитическое решение** $g(x) = 0$: \n",
        "\n",
        "$g(x) = (cos(x) - \\cfrac{1}{5})^2$\n",
        "\n",
        "$x = 1.3694$"
      ]
    },
    {
      "cell_type": "code",
      "metadata": {
        "id": "RYKgZoQ8CzVo",
        "colab_type": "code",
        "colab": {}
      },
      "source": [
        "def f(x):\n",
        "    return np.cos(x) ** 2 - 2 * np.cos(x) / 35 - 1 / 35\n",
        "\n",
        "def g(x):\n",
        "    return np.cos(x) ** 2 - 2 * np.cos(x) / 5 + 1 / 25\n",
        "\n",
        "a, b = 0, 3"
      ],
      "execution_count": 0,
      "outputs": []
    },
    {
      "cell_type": "markdown",
      "metadata": {
        "id": "vPIcEwCFLJx0",
        "colab_type": "text"
      },
      "source": [
        "**Локализуем корни**"
      ]
    },
    {
      "cell_type": "code",
      "metadata": {
        "id": "kTqHKdSmKjtK",
        "colab_type": "code",
        "colab": {
          "base_uri": "https://localhost:8080/",
          "height": 406
        },
        "outputId": "cc9779da-b8cd-445a-f63b-0be5b0733917"
      },
      "source": [
        "localize(f, a, b)"
      ],
      "execution_count": 19,
      "outputs": [
        {
          "output_type": "display_data",
          "data": {
            "image/png": "[encoded data removed]",
            "text/plain": [
              "<Figure size 936x432 with 1 Axes>"
            ]
          },
          "metadata": {
            "tags": []
          }
        }
      ]
    },
    {
      "cell_type": "markdown",
      "metadata": {
        "id": "Y9fn6bfPL0L9",
        "colab_type": "text"
      },
      "source": [
        "*Корни расположены около 1.4 и 1.7.*\n",
        "*Отрезки локализации равны, сооответственно,* $[1, 1.5]$ и $[1.5, 2]$"
      ]
    },
    {
      "cell_type": "code",
      "metadata": {
        "id": "ybF8UhznLjJ3",
        "colab_type": "code",
        "colab": {
          "base_uri": "https://localhost:8080/",
          "height": 406
        },
        "outputId": "6c2e172d-9d77-4a01-a359-594e234385b9"
      },
      "source": [
        "localize(g, a, b, 'g')"
      ],
      "execution_count": 20,
      "outputs": [
        {
          "output_type": "display_data",
          "data": {
            "image/png": "[encoded data removed]",
            "text/plain": [
              "<Figure size 936x432 with 1 Axes>"
            ]
          },
          "metadata": {
            "tags": []
          }
        }
      ]
    },
    {
      "cell_type": "markdown",
      "metadata": {
        "id": "MIyO_v7WL7Z7",
        "colab_type": "text"
      },
      "source": [
        "*Корень находится около 1.4, функция все время неотрицательна. Нельзя подобрать отрезок* $[a, b]$: $g(a) g(b) < 0$"
      ]
    },
    {
      "cell_type": "markdown",
      "metadata": {
        "id": "2pcsh08OoUrS",
        "colab_type": "text"
      },
      "source": [
        "**Встроенное решение**"
      ]
    },
    {
      "cell_type": "code",
      "metadata": {
        "id": "rirhy2ypm1yX",
        "colab_type": "code",
        "colab": {
          "base_uri": "https://localhost:8080/",
          "height": 69
        },
        "outputId": "d988f13c-d7b8-468d-ef24-68575f18c0d3"
      },
      "source": [
        "print(fsolve(f, 1, xtol=1e-10))\n",
        "print(fsolve(f, 2, xtol=1e-10))\n",
        "print(fsolve(g, 1, xtol=1e-10))"
      ],
      "execution_count": 67,
      "outputs": [
        {
          "output_type": "stream",
          "text": [
            "[1.36943841]\n",
            "[1.7141439]\n",
            "[1.3694384]\n"
          ],
          "name": "stdout"
        }
      ]
    },
    {
      "cell_type": "markdown",
      "metadata": {
        "id": "4OfJhVf1obaK",
        "colab_type": "text"
      },
      "source": [
        "**Решение методом бисекции**"
      ]
    },
    {
      "cell_type": "code",
      "metadata": {
        "id": "digQbKkfNvJw",
        "colab_type": "code",
        "colab": {
          "base_uri": "https://localhost:8080/",
          "height": 35
        },
        "outputId": "e49b9510-0986-4d4c-962d-1c09894f1568"
      },
      "source": [
        "bisect(f, 1, 1.5, eps=1e-10)"
      ],
      "execution_count": 12,
      "outputs": [
        {
          "output_type": "execute_result",
          "data": {
            "text/plain": [
              "1.3694384060218"
            ]
          },
          "metadata": {
            "tags": []
          },
          "execution_count": 12
        }
      ]
    },
    {
      "cell_type": "code",
      "metadata": {
        "id": "JYZ1bQshMlBH",
        "colab_type": "code",
        "colab": {
          "base_uri": "https://localhost:8080/",
          "height": 35
        },
        "outputId": "2aa0d184-cbfe-4800-ea54-a18cdff302c9"
      },
      "source": [
        "bisect(f, 1.5, 2, eps=1e-10)"
      ],
      "execution_count": 13,
      "outputs": [
        {
          "output_type": "execute_result",
          "data": {
            "text/plain": [
              "1.7141438957187347"
            ]
          },
          "metadata": {
            "tags": []
          },
          "execution_count": 13
        }
      ]
    },
    {
      "cell_type": "code",
      "metadata": {
        "id": "qmGmPnzaGU3B",
        "colab_type": "code",
        "colab": {
          "base_uri": "https://localhost:8080/",
          "height": 35
        },
        "outputId": "a1d8754f-d930-4350-e114-24ed2f5222bf"
      },
      "source": [
        "bisect(g, 1, 2, eps=1e-10)"
      ],
      "execution_count": 14,
      "outputs": [
        {
          "output_type": "execute_result",
          "data": {
            "text/plain": [
              "1.9999999999417923"
            ]
          },
          "metadata": {
            "tags": []
          },
          "execution_count": 14
        }
      ]
    },
    {
      "cell_type": "markdown",
      "metadata": {
        "id": "6mn-ZIKXNBdr",
        "colab_type": "text"
      },
      "source": [
        "*Корни функции* $f(x)$ *удалось локализовать.*\n",
        "\n",
        "*Из-за того, что у функции* $g(x)$ *не существует отрезка локализации, алгоритм стремится к правому концу отрезка.*"
      ]
    },
    {
      "cell_type": "markdown",
      "metadata": {
        "id": "DhYPl753OSuJ",
        "colab_type": "text"
      },
      "source": [
        "**Задача 2.2**. Найти указанный в варианте корень уравнения $f(x)=0$ с $ε = 10^{-6}$ двумя способами.\n",
        "\n",
        "а) Использовать метод бисекции. Предварительно определить отрезок локализации $[a, b]$.\n",
        "\n",
        "b) Использовать метод Ньютона. В качестве начального приближения для метода Ньютона взять середину отрезка локализации из п. а).\n",
        "\n",
        "Сравнить число итераций в п. a), b)\n",
        "\n",
        "$f(x) = (x+1) e^{x+1} -x -2$, найти наибольший по модулю корень"
      ]
    },
    {
      "cell_type": "code",
      "metadata": {
        "id": "tZGd3cBzGX2r",
        "colab_type": "code",
        "colab": {}
      },
      "source": [
        "def f(x):\n",
        "    return (x + 1) * np.exp(x + 1) - x - 2\n",
        "\n",
        "def f_der(x):\n",
        "    return (x + 1) * np.exp(x + 1) + np.exp(x + 1) - 1"
      ],
      "execution_count": 0,
      "outputs": []
    },
    {
      "cell_type": "markdown",
      "metadata": {
        "id": "msAw9s3LRe2H",
        "colab_type": "text"
      },
      "source": [
        "**Локализуем корни**"
      ]
    },
    {
      "cell_type": "code",
      "metadata": {
        "id": "9rmA3v1qRbRP",
        "colab_type": "code",
        "colab": {
          "base_uri": "https://localhost:8080/",
          "height": 406
        },
        "outputId": "f1ea8af1-d734-4f91-b63d-e00140a9c147"
      },
      "source": [
        "localize(f, -4, 1)"
      ],
      "execution_count": 26,
      "outputs": [
        {
          "output_type": "display_data",
          "data": {
            "image/png": "[encoded data removed]",
            "text/plain": [
              "<Figure size 936x432 with 1 Axes>"
            ]
          },
          "metadata": {
            "tags": []
          }
        }
      ]
    },
    {
      "cell_type": "markdown",
      "metadata": {
        "id": "Yb5Modcwo1Jg",
        "colab_type": "text"
      },
      "source": [
        "*Отрезки локализации:* $[-4, -1]$, $[-1, 1]$"
      ]
    },
    {
      "cell_type": "markdown",
      "metadata": {
        "id": "ud2YYrkYoq-0",
        "colab_type": "text"
      },
      "source": [
        "**Решение методом бисекции**"
      ]
    },
    {
      "cell_type": "code",
      "metadata": {
        "id": "s2gl0vDQRkGp",
        "colab_type": "code",
        "colab": {
          "base_uri": "https://localhost:8080/",
          "height": 52
        },
        "outputId": "dc9f938f-2ac5-4589-9c2f-9d1f2d027017"
      },
      "source": [
        "bisect(f, -4, -1, eps=1e-6, show_iter=True)"
      ],
      "execution_count": 30,
      "outputs": [
        {
          "output_type": "stream",
          "text": [
            "Количество итераций: 21\n"
          ],
          "name": "stdout"
        },
        {
          "output_type": "execute_result",
          "data": {
            "text/plain": [
              "-2.349975824356079"
            ]
          },
          "metadata": {
            "tags": []
          },
          "execution_count": 30
        }
      ]
    },
    {
      "cell_type": "code",
      "metadata": {
        "id": "MGEuC7fsSG-s",
        "colab_type": "code",
        "colab": {
          "base_uri": "https://localhost:8080/",
          "height": 52
        },
        "outputId": "7e7ce6ec-0fbc-4c43-9ca9-5113da37f88c"
      },
      "source": [
        "bisect(f, -1, 1, eps=1e-6, show_iter=True)"
      ],
      "execution_count": 31,
      "outputs": [
        {
          "output_type": "stream",
          "text": [
            "Количество итераций: 20\n"
          ],
          "name": "stdout"
        },
        {
          "output_type": "execute_result",
          "data": {
            "text/plain": [
              "-0.19353389739990234"
            ]
          },
          "metadata": {
            "tags": []
          },
          "execution_count": 31
        }
      ]
    },
    {
      "cell_type": "markdown",
      "metadata": {
        "id": "UaIOwEoKotde",
        "colab_type": "text"
      },
      "source": [
        "**Решение методом Ньютона**"
      ]
    },
    {
      "cell_type": "code",
      "metadata": {
        "id": "qqKei8JiSLQk",
        "colab_type": "code",
        "colab": {
          "base_uri": "https://localhost:8080/",
          "height": 52
        },
        "outputId": "41d74a8f-a75f-4889-8aaa-b85445da5083"
      },
      "source": [
        "newton(f, f_der, -2.5, eps=1e-6, show_iter=True)"
      ],
      "execution_count": 36,
      "outputs": [
        {
          "output_type": "stream",
          "text": [
            "Количество итераций: 2\n"
          ],
          "name": "stdout"
        },
        {
          "output_type": "execute_result",
          "data": {
            "text/plain": [
              "-2.3499764854011267"
            ]
          },
          "metadata": {
            "tags": []
          },
          "execution_count": 36
        }
      ]
    },
    {
      "cell_type": "code",
      "metadata": {
        "id": "oAMftRnUTqLw",
        "colab_type": "code",
        "colab": {
          "base_uri": "https://localhost:8080/",
          "height": 52
        },
        "outputId": "314aab57-2c46-4a1d-d8d9-0bf228e42727"
      },
      "source": [
        "newton(f, f_der, 0, eps=1e-6, show_iter=True)"
      ],
      "execution_count": 37,
      "outputs": [
        {
          "output_type": "stream",
          "text": [
            "Количество итераций: 4\n"
          ],
          "name": "stdout"
        },
        {
          "output_type": "execute_result",
          "data": {
            "text/plain": [
              "-0.19353400576367308"
            ]
          },
          "metadata": {
            "tags": []
          },
          "execution_count": 37
        }
      ]
    },
    {
      "cell_type": "markdown",
      "metadata": {
        "id": "I4nlfdPWUPOb",
        "colab_type": "text"
      },
      "source": [
        "*Метод Ньютона сходтся быстрее (если сравнить количество итераций)*"
      ]
    },
    {
      "cell_type": "markdown",
      "metadata": {
        "id": "Wrxml8eMUzHz",
        "colab_type": "text"
      },
      "source": [
        "**Задача 2.10.** Функция $y=f(x)$ задана неявно уравнением $F(x,y)=0$. На отрезке $[1, 5]$ построить таблицу значений функции $y=f(x)$ с шагом $h=0.5$, применяя один из методов численного решения нелинейного уравнения (с точностью $ε = 10^{-7} $). Построить график функции $y=f(x)$ на заданном отрезке.\n",
        "\n",
        "$F(x, y) = ch(y e^y + \\cfrac{x}{20}) + \\cfrac{1}{arctg(20ye^y + x)} - 13, 1 \\le x \\le 5, 1 \\le y \\le 1.5,$\n"
      ]
    },
    {
      "cell_type": "code",
      "metadata": {
        "id": "alOR0qTLcPVm",
        "colab_type": "code",
        "colab": {}
      },
      "source": [
        "def secant_2(f, x, y0, y1, N_max = 1000, eps = 1e-8):\n",
        "    N_iter = 0\n",
        "    f_y0 = f(x, y0)\n",
        "    f_y1 = f(x, y1)\n",
        "    while N_iter < N_max:\n",
        "        f_der = (f_y0 - f_y1) / (y0 - y1)\n",
        "        y2 = y1 - f_y1 / f_der\n",
        "        f_y2 = f(x, y2)\n",
        "        if abs(y2 - y1) < eps:\n",
        "            break\n",
        "        N_iter += 1\n",
        "        f_y0, f_y1 = f_y1, f_y2\n",
        "        y0, y1 = y1, y2\n",
        "    return y2"
      ],
      "execution_count": 0,
      "outputs": []
    },
    {
      "cell_type": "code",
      "metadata": {
        "id": "thaRbW-CgglO",
        "colab_type": "code",
        "colab": {}
      },
      "source": [
        "def bisect_2(f, y, a, b, N_max = 1000, eps = 1e-12, show_iter=False):\n",
        "    if f(y, a) == 0:\n",
        "        return a\n",
        "    elif f(y, b) == 0:\n",
        "        return b\n",
        "    N_iter = 0\n",
        "    x_prev = a\n",
        "    while N_iter < N_max:\n",
        "        x = (a + b) / 2\n",
        "        if abs(x - x_prev) < eps:\n",
        "            break\n",
        "        if f(y, a) * f(y, x) < 0:\n",
        "            b = x\n",
        "        else:\n",
        "            a = x\n",
        "        x_prev = x\n",
        "        N_iter += 1\n",
        "    if show_iter:\n",
        "        print('Количество итераций:', N_iter)\n",
        "    return x"
      ],
      "execution_count": 0,
      "outputs": []
    },
    {
      "cell_type": "code",
      "metadata": {
        "id": "lVnLiUUDUH8W",
        "colab_type": "code",
        "colab": {}
      },
      "source": [
        "def f(x, y):\n",
        "    return np.cosh(y * np.exp(y) + x / 20) + 1 / np.arctan(20 * y * np.exp(y) + x) - 13\n",
        "a, b = 1, 5\n",
        "h = 0.5"
      ],
      "execution_count": 0,
      "outputs": []
    },
    {
      "cell_type": "code",
      "metadata": {
        "id": "lMDjgdTEdKCD",
        "colab_type": "code",
        "colab": {
          "base_uri": "https://localhost:8080/",
          "height": 406
        },
        "outputId": "35acdc1a-e3e8-4bf5-debf-e1ffa8b8627d"
      },
      "source": [
        "num = (b - a) / h\n",
        "x = np.linspace(1, 5, num+1)\n",
        "y = []\n",
        "for x_ in x:\n",
        "    y.append(secant_2(f, x_, 1.2, 1.3, eps=1e-7))\n",
        "\n",
        "plt.figure(figsize=(13, 6))\n",
        "plt.plot(x, y)\n",
        "plt.title('Функция $f(x)$')\n",
        "plt.grid()\n",
        "plt.xlabel('x')\n",
        "plt.ylabel('$f(x)$')\n",
        "plt.show()"
      ],
      "execution_count": 57,
      "outputs": [
        {
          "output_type": "display_data",
          "data": {
            "image/png": "[encoded data removed]",
            "text/plain": [
              "<Figure size 936x432 with 1 Axes>"
            ]
          },
          "metadata": {
            "tags": []
          }
        }
      ]
    },
    {
      "cell_type": "code",
      "metadata": {
        "id": "6ngjyOGDeOnd",
        "colab_type": "code",
        "colab": {
          "base_uri": "https://localhost:8080/",
          "height": 173
        },
        "outputId": "ddc2ded9-dbc5-4c80-d5f0-c1cfa0c57a42"
      },
      "source": [
        "tuple(zip(x, y))"
      ],
      "execution_count": 58,
      "outputs": [
        {
          "output_type": "execute_result",
          "data": {
            "text/plain": [
              "((1.0, 1.0759838513495472),\n",
              " (1.5, 1.0718652767376127),\n",
              " (2.0, 1.0677213976965467),\n",
              " (2.5, 1.0635518845467673),\n",
              " (3.0, 1.059356400965877),\n",
              " (3.5, 1.0551346038063971),\n",
              " (4.0, 1.0508861429071494),\n",
              " (4.5, 1.046610660898013),\n",
              " (5.0, 1.0423077929977769))"
            ]
          },
          "metadata": {
            "tags": []
          },
          "execution_count": 58
        }
      ]
    },
    {
      "cell_type": "code",
      "metadata": {
        "id": "0gDEcKnMfRSQ",
        "colab_type": "code",
        "colab": {
          "base_uri": "https://localhost:8080/",
          "height": 406
        },
        "outputId": "a01d385a-cf3e-42f6-ba02-13c4a10a1b5a"
      },
      "source": [
        "y = []\n",
        "for x_ in x:\n",
        "    y.append(bisect_2(f, x_, 1, 1.5, eps=1e-7))\n",
        "\n",
        "plt.figure(figsize=(13, 6))\n",
        "plt.plot(x, y)\n",
        "plt.title('Функция $f(x)$')\n",
        "plt.grid()\n",
        "plt.xlabel('x')\n",
        "plt.ylabel('$f(x)$')\n",
        "plt.show()"
      ],
      "execution_count": 62,
      "outputs": [
        {
          "output_type": "display_data",
          "data": {
            "image/png": "[encoded data removed]",
            "text/plain": [
              "<Figure size 936x432 with 1 Axes>"
            ]
          },
          "metadata": {
            "tags": []
          }
        }
      ]
    },
    {
      "cell_type": "code",
      "metadata": {
        "id": "-8fmNHhShAtH",
        "colab_type": "code",
        "colab": {
          "base_uri": "https://localhost:8080/",
          "height": 173
        },
        "outputId": "e2a1233c-1c7b-4f88-b3ca-1f2b0138e55f"
      },
      "source": [
        "tuple(zip(x, y))"
      ],
      "execution_count": 60,
      "outputs": [
        {
          "output_type": "execute_result",
          "data": {
            "text/plain": [
              "((1.0, 1.0759838223457336),\n",
              " (1.5, 1.0718652606010437),\n",
              " (2.0, 1.067721426486969),\n",
              " (2.5, 1.0635518431663513),\n",
              " (3.0, 1.0593563914299011),\n",
              " (3.5, 1.0551345944404602),\n",
              " (4.0, 1.05088609457016),\n",
              " (4.5, 1.0466106534004211),\n",
              " (5.0, 1.0423077940940857))"
            ]
          },
          "metadata": {
            "tags": []
          },
          "execution_count": 60
        }
      ]
    },
    {
      "cell_type": "code",
      "metadata": {
        "id": "OYNBsy7mhD7B",
        "colab_type": "code",
        "colab": {}
      },
      "source": [
        ""
      ],
      "execution_count": 0,
      "outputs": []
    }
  ]
}