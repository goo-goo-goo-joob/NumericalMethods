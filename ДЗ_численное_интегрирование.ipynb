{
  "nbformat": 4,
  "nbformat_minor": 0,
  "metadata": {
    "colab": {
      "name": "ДЗ численное интегрирование.ipynb",
      "provenance": [],
      "collapsed_sections": []
    },
    "kernelspec": {
      "name": "python3",
      "display_name": "Python 3"
    }
  },
  "cells": [
    {
      "cell_type": "markdown",
      "metadata": {
        "id": "T2SFcX6VeW0v",
        "colab_type": "text"
      },
      "source": [
        "# Численное итегрирование"
      ]
    },
    {
      "cell_type": "code",
      "metadata": {
        "id": "eBgsMHtQepL8",
        "colab_type": "code",
        "colab": {}
      },
      "source": [
        "import numpy as np"
      ],
      "execution_count": 0,
      "outputs": []
    },
    {
      "cell_type": "code",
      "metadata": {
        "id": "c2V2eKv4ejj1",
        "colab_type": "code",
        "colab": {}
      },
      "source": [
        "def f(x=None):\n",
        "    if isinstance(x, np.ndarray):\n",
        "        return np.array([np.exp(-pow(xi, 2)) for xi in x])\n",
        "    elif isinstance(x, float) or isinstance(x, int):\n",
        "        return np.exp(-pow(x, 2))\n",
        "    raise Exception(\"Unsuppoted type {}\".format(type(x)))\n",
        "\n",
        "# 0.746824132812427025399467436131853005354499686812606329027"
      ],
      "execution_count": 0,
      "outputs": []
    },
    {
      "cell_type": "markdown",
      "metadata": {
        "id": "k2wF46jkedi2",
        "colab_type": "text"
      },
      "source": [
        "## Метод прямогуольников"
      ]
    },
    {
      "cell_type": "code",
      "metadata": {
        "id": "YaGUe8W2eV9O",
        "colab_type": "code",
        "colab": {}
      },
      "source": [
        "def integrate_rect(a, b, N, func):\n",
        "    x = np.linspace(a, b, N, endpoint=False) #linspase генерирует N точек от a (включительно) до b (не включительно) -> получим N интервалов\n",
        "    h = (b - a) / N\n",
        "    return h * np.sum(func(x + h/2))"
      ],
      "execution_count": 0,
      "outputs": []
    },
    {
      "cell_type": "code",
      "metadata": {
        "id": "7-7gEjn5hrDL",
        "colab_type": "code",
        "outputId": "65d3adab-77ff-4603-9680-1fa1462bc6ff",
        "colab": {
          "base_uri": "https://localhost:8080/",
          "height": 35
        }
      },
      "source": [
        "integrate_rect(0, 1, 100000, f)"
      ],
      "execution_count": 0,
      "outputs": [
        {
          "output_type": "execute_result",
          "data": {
            "text/plain": [
              "0.7468241328154926"
            ]
          },
          "metadata": {
            "tags": []
          },
          "execution_count": 67
        }
      ]
    },
    {
      "cell_type": "markdown",
      "metadata": {
        "id": "IeUZhOdwFrDJ",
        "colab_type": "text"
      },
      "source": [
        "Получили отличие в 12 знаке после запятой"
      ]
    },
    {
      "cell_type": "markdown",
      "metadata": {
        "id": "0DSs4BxRh0zC",
        "colab_type": "text"
      },
      "source": [
        "## Метод трапеций"
      ]
    },
    {
      "cell_type": "code",
      "metadata": {
        "id": "fWETyKv_hujY",
        "colab_type": "code",
        "colab": {}
      },
      "source": [
        "def integrate_trap(a, b, N, func):\n",
        "    x = np.linspace(a, b, N, endpoint=False)[1:] #генерируем N точек, первую точку не запоминаем\n",
        "    h = (b - a) / N\n",
        "    return h * ((func(a) + func(b)) / 2 + np.sum(func(x)))"
      ],
      "execution_count": 0,
      "outputs": []
    },
    {
      "cell_type": "code",
      "metadata": {
        "id": "ygMiEZJbjIAw",
        "colab_type": "code",
        "outputId": "25d19e91-7c0c-46cb-d8cf-fd9dbeab3377",
        "colab": {
          "base_uri": "https://localhost:8080/",
          "height": 35
        }
      },
      "source": [
        "integrate_trap(0., 1., 100000, f)"
      ],
      "execution_count": 0,
      "outputs": [
        {
          "output_type": "execute_result",
          "data": {
            "text/plain": [
              "0.746824132806296"
            ]
          },
          "metadata": {
            "tags": []
          },
          "execution_count": 69
        }
      ]
    },
    {
      "cell_type": "markdown",
      "metadata": {
        "id": "LbHKIZsnF_n4",
        "colab_type": "text"
      },
      "source": [
        "Получили отличие в 11 знаке после запятой"
      ]
    },
    {
      "cell_type": "markdown",
      "metadata": {
        "id": "vOZbVnb3h5wi",
        "colab_type": "text"
      },
      "source": [
        "## Метод Симпсона"
      ]
    },
    {
      "cell_type": "code",
      "metadata": {
        "id": "Txm81wn8sx7O",
        "colab_type": "code",
        "colab": {}
      },
      "source": [
        "def integrate_simp(a, b, N, func):\n",
        "    x = np.linspace(a, b, N, endpoint=False)\n",
        "    h = (b - a) / N\n",
        "    return (h / 6) * (func(a) + func(b) + 4 * np.sum(func(x + h/2)) + 2 * np.sum(func(x[1:])))"
      ],
      "execution_count": 0,
      "outputs": []
    },
    {
      "cell_type": "code",
      "metadata": {
        "id": "dqPldf0jlbso",
        "colab_type": "code",
        "outputId": "252f7a1d-b446-4dd4-a502-2ebb1834ff14",
        "colab": {
          "base_uri": "https://localhost:8080/",
          "height": 35
        }
      },
      "source": [
        "integrate_simp(0., 1., 100000, f)"
      ],
      "execution_count": 0,
      "outputs": [
        {
          "output_type": "execute_result",
          "data": {
            "text/plain": [
              "0.7468241328124272"
            ]
          },
          "metadata": {
            "tags": []
          },
          "execution_count": 71
        }
      ]
    },
    {
      "cell_type": "markdown",
      "metadata": {
        "id": "GRcvpyWAy_dG",
        "colab_type": "text"
      },
      "source": [
        "Получили отличие в 16 знаке после запятой"
      ]
    },
    {
      "cell_type": "markdown",
      "metadata": {
        "id": "0ErHv8FRh9R1",
        "colab_type": "text"
      },
      "source": [
        "## Метод Монте-Карло"
      ]
    },
    {
      "cell_type": "code",
      "metadata": {
        "id": "b81ksQ_FiBus",
        "colab_type": "code",
        "colab": {}
      },
      "source": [
        "np.random.seed(12)\n",
        "max_f = 1\n",
        "def integrate_mont(a, b, N):\n",
        "    S_rect = (b - a) * max_f\n",
        "    N1 = 0\n",
        "    for i in range(N):\n",
        "        x = np.random.uniform(a, b)\n",
        "        y = np.random.uniform(0, max_f)\n",
        "        if f(x) >= y:\n",
        "            N1 += 1\n",
        "    return S_rect * N1 / N"
      ],
      "execution_count": 0,
      "outputs": []
    },
    {
      "cell_type": "code",
      "metadata": {
        "id": "r3DwauIcpZUp",
        "colab_type": "code",
        "outputId": "d733a206-eebe-43fb-f677-9fcd816f9c54",
        "colab": {
          "base_uri": "https://localhost:8080/",
          "height": 35
        }
      },
      "source": [
        "integrate_mont(0, 1, 1000000)"
      ],
      "execution_count": 0,
      "outputs": [
        {
          "output_type": "execute_result",
          "data": {
            "text/plain": [
              "0.746873"
            ]
          },
          "metadata": {
            "tags": []
          },
          "execution_count": 73
        }
      ]
    },
    {
      "cell_type": "markdown",
      "metadata": {
        "id": "LD3rz_voGWhc",
        "colab_type": "text"
      },
      "source": [
        "Получили отличие в 5 знаке после запятой"
      ]
    },
    {
      "cell_type": "code",
      "metadata": {
        "id": "w3btMZ58pecu",
        "colab_type": "code",
        "colab": {}
      },
      "source": [
        ""
      ],
      "execution_count": 0,
      "outputs": []
    }
  ]
}